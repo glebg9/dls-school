{
 "cells": [
  {
   "cell_type": "markdown",
   "metadata": {
    "id": "IrDNNkNTEEYz"
   },
   "source": [
    "# Первая часть. Исследование"
   ]
  },
  {
   "cell_type": "code",
   "execution_count": 1,
   "metadata": {
    "executionInfo": {
     "elapsed": 2,
     "status": "ok",
     "timestamp": 1634500355645,
     "user": {
      "displayName": "Александр Коломейцев",
      "photoUrl": "https://lh3.googleusercontent.com/a/default-user=s64",
      "userId": "12266641682940781501"
     },
     "user_tz": -180
    },
    "id": "lzLqEeZKEEYz"
   },
   "outputs": [],
   "source": [
    "import pandas as pd\n",
    "import numpy as np\n",
    "from matplotlib import pyplot as plt"
   ]
  },
  {
   "cell_type": "markdown",
   "metadata": {
    "id": "LOlxdURSEEY3"
   },
   "source": [
    "## Загрузка данных (2 балла)\n",
    "\n",
    "1) Посмотрите на случайные строчки. \n",
    "\n",
    "2) Посмотрите, есть ли в датасете незаполненные значения (nan'ы) с помощью data.isna() или data.info() и, если нужно, замените их на что-то. Будет хорошо, если вы построите табличку с количеством nan в каждой колонке."
   ]
  },
  {
   "cell_type": "code",
   "execution_count": 2,
   "metadata": {
    "executionInfo": {
     "elapsed": 316,
     "status": "ok",
     "timestamp": 1634500566253,
     "user": {
      "displayName": "Александр Коломейцев",
      "photoUrl": "https://lh3.googleusercontent.com/a/default-user=s64",
      "userId": "12266641682940781501"
     },
     "user_tz": -180
    },
    "id": "pw-Brue9EEY3"
   },
   "outputs": [],
   "source": [
    "data = pd.read_csv('./train.csv') # Импорт данных "
   ]
  },
  {
   "cell_type": "code",
   "execution_count": 3,
   "metadata": {
    "executionInfo": {
     "elapsed": 247,
     "status": "ok",
     "timestamp": 1634501164305,
     "user": {
      "displayName": "Александр Коломейцев",
      "photoUrl": "https://lh3.googleusercontent.com/a/default-user=s64",
      "userId": "12266641682940781501"
     },
     "user_tz": -180
    },
    "id": "KgnkkF5bEEY9"
   },
   "outputs": [],
   "source": [
    "# Для вашего удобства списки с именами разных колонок\n",
    "\n",
    "# Числовые признаки\n",
    "num_cols = [\n",
    "    'ClientPeriod',\n",
    "    'MonthlySpending',\n",
    "    'TotalSpent'\n",
    "]\n",
    "\n",
    "# Категориальные признаки\n",
    "cat_cols = [\n",
    "    'Sex',\n",
    "    'IsSeniorCitizen',\n",
    "    'HasPartner',\n",
    "    'HasChild',\n",
    "    'HasPhoneService',\n",
    "    'HasMultiplePhoneNumbers',\n",
    "    'HasInternetService',\n",
    "    'HasOnlineSecurityService',\n",
    "    'HasOnlineBackup',\n",
    "    'HasDeviceProtection',\n",
    "    'HasTechSupportAccess',\n",
    "    'HasOnlineTV',\n",
    "    'HasMovieSubscription',\n",
    "    'HasContractPhone',\n",
    "    'IsBillingPaperless',\n",
    "    'PaymentMethod'\n",
    "]\n",
    "\n",
    "feature_cols = num_cols + cat_cols\n",
    "target_col = 'Churn'"
   ]
  },
  {
   "cell_type": "code",
   "execution_count": 4,
   "metadata": {
    "colab": {
     "base_uri": "https://localhost:8080/"
    },
    "executionInfo": {
     "elapsed": 266,
     "status": "ok",
     "timestamp": 1634500615408,
     "user": {
      "displayName": "Александр Коломейцев",
      "photoUrl": "https://lh3.googleusercontent.com/a/default-user=s64",
      "userId": "12266641682940781501"
     },
     "user_tz": -180
    },
    "id": "zr4IX9mEmyoU",
    "outputId": "91a2b4d8-8697-4013-cde5-0c8ce40a9f50"
   },
   "outputs": [
    {
     "name": "stdout",
     "output_type": "stream",
     "text": [
      "<class 'pandas.core.frame.DataFrame'>\n",
      "RangeIndex: 5282 entries, 0 to 5281\n",
      "Data columns (total 20 columns):\n",
      " #   Column                    Non-Null Count  Dtype  \n",
      "---  ------                    --------------  -----  \n",
      " 0   ClientPeriod              5282 non-null   int64  \n",
      " 1   MonthlySpending           5282 non-null   float64\n",
      " 2   TotalSpent                5282 non-null   object \n",
      " 3   Sex                       5282 non-null   object \n",
      " 4   IsSeniorCitizen           5282 non-null   int64  \n",
      " 5   HasPartner                5282 non-null   object \n",
      " 6   HasChild                  5282 non-null   object \n",
      " 7   HasPhoneService           5282 non-null   object \n",
      " 8   HasMultiplePhoneNumbers   5282 non-null   object \n",
      " 9   HasInternetService        5282 non-null   object \n",
      " 10  HasOnlineSecurityService  5282 non-null   object \n",
      " 11  HasOnlineBackup           5282 non-null   object \n",
      " 12  HasDeviceProtection       5282 non-null   object \n",
      " 13  HasTechSupportAccess      5282 non-null   object \n",
      " 14  HasOnlineTV               5282 non-null   object \n",
      " 15  HasMovieSubscription      5282 non-null   object \n",
      " 16  HasContractPhone          5282 non-null   object \n",
      " 17  IsBillingPaperless        5282 non-null   object \n",
      " 18  PaymentMethod             5282 non-null   object \n",
      " 19  Churn                     5282 non-null   int64  \n",
      "dtypes: float64(1), int64(3), object(16)\n",
      "memory usage: 825.4+ KB\n"
     ]
    }
   ],
   "source": [
    "data.info() # Просматриваем информацию о типах данных  датасета"
   ]
  },
  {
   "cell_type": "markdown",
   "metadata": {
    "id": "WeYADEpD1L5R"
   },
   "source": [
    "Обращаем внимание, что у числового признака 'TotalSpent' тип данных object. При этом во всем датасете отсутсвуют nans. Позже при попытки перевести признак в другой формат возникает ошибка, опытным путем обнаруживаем, что в признаке встречаются значения типа string ' '. Удаляем строки с ними и приводим данные в к типу float.\n"
   ]
  },
  {
   "cell_type": "code",
   "execution_count": 5,
   "metadata": {
    "executionInfo": {
     "elapsed": 266,
     "status": "ok",
     "timestamp": 1634501168678,
     "user": {
      "displayName": "Александр Коломейцев",
      "photoUrl": "https://lh3.googleusercontent.com/a/default-user=s64",
      "userId": "12266641682940781501"
     },
     "user_tz": -180
    },
    "id": "Kex1bGUnnSjL"
   },
   "outputs": [],
   "source": [
    "data = data.replace(' ', np.nan) # заменяются пропущенные значения на nan\n",
    "data = data.dropna()  #  удаляются строки с nan\n",
    "\n",
    "data['TotalSpent'] = np.array(data['TotalSpent'], dtype=np.float32) # превод признака к типу float\n",
    "X_origin = data.iloc[:, :-1] # сохранение оригинала данных для catboost\n",
    "y = data[target_col] \n"
   ]
  },
  {
   "cell_type": "markdown",
   "metadata": {
    "id": "dK370bPCEEZD"
   },
   "source": [
    "## Анализ данных (3 балла)\n",
    "\n",
    "1) Для численных призанков постройте гистограмму (*plt.hist(...)*) или boxplot (*plt.boxplot(...)*). Для категориальных посчитайте количество каждого значения для каждого признака. Для каждой колонки надо сделать *data.value_counts()* и построить bar диаграммы *plt.bar(...)* или круговые диаграммы *plt.pie(...)* (хорошо, елси вы сможете это сделать на одном гарфике с помощью *plt.subplots(...)*). \n",
    "\n",
    "2) Посмотрите на распределение целевой переменной и скажите, являются ли классы несбалансированными.\n",
    "\n",
    "3) (Если будет желание) Поиграйте с разными библиотеками для визуализации - *sns*, *pandas_visual_analysis*, etc.\n",
    "\n",
    "Второй пункт очень важен, потому что существуют задачи классификации с несбалансированными классами. Например, это может значить, что в датасете намного больше примеров 0 класса. В таких случаях нужно 1) не использовать accuracy как метрику 2) использовать методы борьбы с imbalanced dataset (обычно если датасет сильно несбалансирован, т.е. класса 1 в 20 раз меньше класса 0)."
   ]
  },
  {
   "cell_type": "markdown",
   "metadata": {
    "id": "kjGz9yAR3YU4"
   },
   "source": [
    "Для численных признаков будут строится графики типа histogramm и boxplot."
   ]
  },
  {
   "cell_type": "code",
   "execution_count": 6,
   "metadata": {
    "colab": {
     "base_uri": "https://localhost:8080/",
     "height": 1000
    },
    "executionInfo": {
     "elapsed": 1722,
     "status": "ok",
     "timestamp": 1634501332592,
     "user": {
      "displayName": "Александр Коломейцев",
      "photoUrl": "https://lh3.googleusercontent.com/a/default-user=s64",
      "userId": "12266641682940781501"
     },
     "user_tz": -180
    },
    "id": "NZkbgFJZEEZE",
    "outputId": "fd24ebbc-b146-415b-962b-c1dfd7cf4ff9"
   },
   "outputs": [
    {
     "data": {
      "image/png": "[encoded data removed]",
      "text/plain": [
       "<Figure size 1296x1296 with 6 Axes>"
      ]
     },
     "metadata": {
      "needs_background": "light"
     },
     "output_type": "display_data"
    }
   ],
   "source": [
    "fig, ax = plt.subplots(3, 2, figsize=(18, 18))\n",
    "colors = ['blue', 'green', 'red']\n",
    "\n",
    "for i, col in enumerate(num_cols):\n",
    "  ax[i, 0].hist(data[col], density=True, bins=30, color=colors[i])\n",
    "  ax[i, 0].set_title(col+',  Histogram')\n",
    "  ax[i, 1].set_title(col+',  Boxplot')\n",
    "  ax[i, 1].boxplot(data[col])"
   ]
  },
  {
   "cell_type": "markdown",
   "metadata": {
    "id": "O_itMiwM34cM"
   },
   "source": [
    "В целом, по виду графиков, можно сделать вывод о том, что для первого обучения датасет пригоден.\n"
   ]
  },
  {
   "cell_type": "markdown",
   "metadata": {
    "id": "xs4aHtA64HOX"
   },
   "source": [
    "Для категориальных признаков рисуем круговые диаграммы и выписываем информацию о каждом признаке.\n"
   ]
  },
  {
   "cell_type": "code",
   "execution_count": 7,
   "metadata": {
    "colab": {
     "base_uri": "https://localhost:8080/",
     "height": 1000
    },
    "executionInfo": {
     "elapsed": 1584,
     "status": "ok",
     "timestamp": 1634501514028,
     "user": {
      "displayName": "Александр Коломейцев",
      "photoUrl": "https://lh3.googleusercontent.com/a/default-user=s64",
      "userId": "12266641682940781501"
     },
     "user_tz": -180
    },
    "id": "VFA5CrwHw5FU",
    "outputId": "af612966-2379-4665-b554-e5fc040fec74"
   },
   "outputs": [
    {
     "name": "stdout",
     "output_type": "stream",
     "text": [
      "Male      2651\n",
      "Female    2622\n",
      "Name: Sex, dtype: int64\n",
      "0    4431\n",
      "1     842\n",
      "Name: IsSeniorCitizen, dtype: int64\n",
      "No     2704\n",
      "Yes    2569\n",
      "Name: HasPartner, dtype: int64\n",
      "No     3676\n",
      "Yes    1597\n",
      "Name: HasChild, dtype: int64\n",
      "Yes    4754\n",
      "No      519\n",
      "Name: HasPhoneService, dtype: int64\n",
      "No                  2508\n",
      "Yes                 2246\n",
      "No phone service     519\n",
      "Name: HasMultiplePhoneNumbers, dtype: int64\n",
      "Fiber optic    2341\n",
      "DSL            1795\n",
      "No             1137\n",
      "Name: HasInternetService, dtype: int64\n",
      "No                     2611\n",
      "Yes                    1525\n",
      "No internet service    1137\n",
      "Name: HasOnlineSecurityService, dtype: int64\n",
      "No                     2331\n",
      "Yes                    1805\n",
      "No internet service    1137\n",
      "Name: HasOnlineBackup, dtype: int64\n",
      "No                     2316\n",
      "Yes                    1820\n",
      "No internet service    1137\n",
      "Name: HasDeviceProtection, dtype: int64\n",
      "No                     2603\n",
      "Yes                    1533\n",
      "No internet service    1137\n",
      "Name: HasTechSupportAccess, dtype: int64\n",
      "No                     2098\n",
      "Yes                    2038\n",
      "No internet service    1137\n",
      "Name: HasOnlineTV, dtype: int64\n",
      "No                     2077\n",
      "Yes                    2059\n",
      "No internet service    1137\n",
      "Name: HasMovieSubscription, dtype: int64\n",
      "Month-to-month    2920\n",
      "Two year          1272\n",
      "One year          1081\n",
      "Name: HasContractPhone, dtype: int64\n",
      "Yes    3145\n",
      "No     2128\n",
      "Name: IsBillingPaperless, dtype: int64\n",
      "Electronic check             1786\n",
      "Mailed check                 1188\n",
      "Bank transfer (automatic)    1157\n",
      "Credit card (automatic)      1142\n",
      "Name: PaymentMethod, dtype: int64\n"
     ]
    },
    {
     "data": {
      "image/png": "[encoded data removed]",
      "text/plain": [
       "<Figure size 1296x1296 with 16 Axes>"
      ]
     },
     "metadata": {},
     "output_type": "display_data"
    }
   ],
   "source": [
    "fig, ax = plt.subplots(int(len(cat_cols)/4), 4, figsize=(18, 18))\n",
    "\n",
    "for i, col in enumerate(cat_cols):\n",
    "  # ax[i, 0].bar(data[col].value_counts())\n",
    "  ax[i//4, i%4].pie(data[col].value_counts(), labels = data[col].unique())\n",
    "  ax[i//4, i%4].set_title(col)\n",
    "  print(data[col].value_counts())\n",
    "  "
   ]
  },
  {
   "cell_type": "markdown",
   "metadata": {
    "id": "mFVXufHM4k7b"
   },
   "source": [
    "Смотрим распределение целевой переменной с помощью круговой диаграммы."
   ]
  },
  {
   "cell_type": "code",
   "execution_count": 8,
   "metadata": {
    "colab": {
     "base_uri": "https://localhost:8080/",
     "height": 299
    },
    "executionInfo": {
     "elapsed": 306,
     "status": "ok",
     "timestamp": 1634501653972,
     "user": {
      "displayName": "Александр Коломейцев",
      "photoUrl": "https://lh3.googleusercontent.com/a/default-user=s64",
      "userId": "12266641682940781501"
     },
     "user_tz": -180
    },
    "id": "Nb--Bq8Q3IMA",
    "outputId": "95cc29da-bb3e-459c-cf03-75761bbec8c3"
   },
   "outputs": [
    {
     "name": "stdout",
     "output_type": "stream",
     "text": [
      "0    3889\n",
      "1    1384\n",
      "Name: Churn, dtype: int64\n"
     ]
    },
    {
     "data": {
      "image/png": "[encoded data removed]",
      "text/plain": [
       "<Figure size 432x288 with 1 Axes>"
      ]
     },
     "metadata": {},
     "output_type": "display_data"
    }
   ],
   "source": [
    "plt.pie(data[target_col].value_counts(), labels = data[target_col].unique())\n",
    "print(data[target_col].value_counts())"
   ]
  },
  {
   "cell_type": "markdown",
   "metadata": {
    "id": "oCwWDnub5AK0"
   },
   "source": [
    "Вывод: в датасете преобладают данные принадлежащие нулевому классу. Однако их количество не более чем в три раза больше, что говорит о том, что датасет можно считать сбалансированым."
   ]
  },
  {
   "cell_type": "markdown",
   "metadata": {
    "id": "DviiJd8REEZK"
   },
   "source": [
    "## Применение линейных моделей (3 балла)\n",
    "\n",
    "1) Обработайте данные для того, чтобы к ним можно было применить LogisticRegression. Т.е. отнормируйте числовые признаки, а категориальные закодируйте с помощью one-hot-encoding'а. \n",
    "\n",
    "2) С помощью кроссвалидации или разделения на train/valid выборку протестируйте разные значения гиперпараметра C и выберите лучший (можно тестировать С=100, 10, 1, 0.1, 0.01, 0.001) по метрике ROC-AUC. \n",
    "\n",
    "Если вы разделяете на train/valid, то используйте LogisticRegressionCV. Он сам при вызове .fit() подберет параметр С. (не забудьте передать scroing='roc_auc', чтобы при кроссвалидации сравнивались значения этой метрики, и refit=True, чтобы при потом модель обучилась на всем датасете с лучшим параметром C). \n",
    "\n",
    "\n",
    "(более сложный вариант) Если вы будете использовать кроссвалидацию, то преобразования данных и LogisticRegression нужно соединить в один Pipeline с помощью make_pipeline, как это делалось во втором семинаре. Потом pipeline надо передать в GridSearchCV. Для one-hot-encoding'a можно испльзовать комбинацию LabelEncoder + OneHotEncoder (сначала превращаем строчки в числа, а потом числа првращаем в one-hot вектора.)"
   ]
  },
  {
   "cell_type": "code",
   "execution_count": 9,
   "metadata": {
    "executionInfo": {
     "elapsed": 1066,
     "status": "ok",
     "timestamp": 1634501801206,
     "user": {
      "displayName": "Александр Коломейцев",
      "photoUrl": "https://lh3.googleusercontent.com/a/default-user=s64",
      "userId": "12266641682940781501"
     },
     "user_tz": -180
    },
    "id": "xHCLDmwqEEZL"
   },
   "outputs": [],
   "source": [
    "from sklearn.linear_model import LogisticRegression, LogisticRegressionCV\n",
    "from sklearn.model_selection import train_test_split, GridSearchCV\n",
    "from sklearn.preprocessing import StandardScaler, RobustScaler, LabelEncoder, OneHotEncoder\n",
    "from sklearn.pipeline import make_pipeline"
   ]
  },
  {
   "cell_type": "markdown",
   "metadata": {
    "id": "54IcLqjP5yS3"
   },
   "source": [
    "Подготавливаем данные для линейных моделей:"
   ]
  },
  {
   "cell_type": "code",
   "execution_count": 10,
   "metadata": {
    "executionInfo": {
     "elapsed": 251,
     "status": "ok",
     "timestamp": 1634502083085,
     "user": {
      "displayName": "Александр Коломейцев",
      "photoUrl": "https://lh3.googleusercontent.com/a/default-user=s64",
      "userId": "12266641682940781501"
     },
     "user_tz": -180
    },
    "id": "P2Yv3uYtEEZO"
   },
   "outputs": [],
   "source": [
    "numeric_data = data[num_cols] # Отделяем от датасета численные признаки\n",
    "categorial_data = data[cat_cols] # Отделяем от датасета категориальные признаки\n",
    "dummy_features = pd.get_dummies(categorial_data, drop_first=True) # Кодировка категориальных признаков с помощью one-hot\n",
    "X = pd.concat([numeric_data, dummy_features], axis=1) # состаление признаков обратно в единый датасет\n"
   ]
  },
  {
   "cell_type": "markdown",
   "metadata": {
    "id": "3ZXP1UG_67GC"
   },
   "source": [
    "Масштабируем численные признаки, с помощью StandardScaler"
   ]
  },
  {
   "cell_type": "code",
   "execution_count": 11,
   "metadata": {
    "executionInfo": {
     "elapsed": 270,
     "status": "ok",
     "timestamp": 1634502199944,
     "user": {
      "displayName": "Александр Коломейцев",
      "photoUrl": "https://lh3.googleusercontent.com/a/default-user=s64",
      "userId": "12266641682940781501"
     },
     "user_tz": -180
    },
    "id": "I_JfMy7A8PPM"
   },
   "outputs": [],
   "source": [
    "from sklearn.preprocessing import StandardScaler\n",
    "\n",
    "scaler = StandardScaler()\n",
    "X[num_cols] = scaler.fit_transform(X[num_cols])\n"
   ]
  },
  {
   "cell_type": "code",
   "execution_count": 12,
   "metadata": {
    "colab": {
     "base_uri": "https://localhost:8080/",
     "height": 700
    },
    "executionInfo": {
     "elapsed": 2677,
     "status": "ok",
     "timestamp": 1634502524777,
     "user": {
      "displayName": "Александр Коломейцев",
      "photoUrl": "https://lh3.googleusercontent.com/a/default-user=s64",
      "userId": "12266641682940781501"
     },
     "user_tz": -180
    },
    "id": "eMSaKZHd87Vx",
    "outputId": "d177aac8-cd9d-4da1-a9b8-cbcbf93d3f28"
   },
   "outputs": [
    {
     "name": "stdout",
     "output_type": "stream",
     "text": [
      "Fitting 5 folds for each of 6 candidates, totalling 30 fits\n"
     ]
    },
    {
     "name": "stderr",
     "output_type": "stream",
     "text": [
      "/home/glebg/.local/lib/python3.9/site-packages/sklearn/linear_model/_logistic.py:814: ConvergenceWarning: lbfgs failed to converge (status=1):\n",
      "STOP: TOTAL NO. of ITERATIONS REACHED LIMIT.\n",
      "\n",
      "Increase the number of iterations (max_iter) or scale the data as shown in:\n",
      "    https://scikit-learn.org/stable/modules/preprocessing.html\n",
      "Please also refer to the documentation for alternative solver options:\n",
      "    https://scikit-learn.org/stable/modules/linear_model.html#logistic-regression\n",
      "  n_iter_i = _check_optimize_result(\n",
      "/home/glebg/.local/lib/python3.9/site-packages/sklearn/linear_model/_logistic.py:814: ConvergenceWarning: lbfgs failed to converge (status=1):\n",
      "STOP: TOTAL NO. of ITERATIONS REACHED LIMIT.\n",
      "\n",
      "Increase the number of iterations (max_iter) or scale the data as shown in:\n",
      "    https://scikit-learn.org/stable/modules/preprocessing.html\n",
      "Please also refer to the documentation for alternative solver options:\n",
      "    https://scikit-learn.org/stable/modules/linear_model.html#logistic-regression\n",
      "  n_iter_i = _check_optimize_result(\n",
      "/home/glebg/.local/lib/python3.9/site-packages/sklearn/linear_model/_logistic.py:814: ConvergenceWarning: lbfgs failed to converge (status=1):\n",
      "STOP: TOTAL NO. of ITERATIONS REACHED LIMIT.\n",
      "\n",
      "Increase the number of iterations (max_iter) or scale the data as shown in:\n",
      "    https://scikit-learn.org/stable/modules/preprocessing.html\n",
      "Please also refer to the documentation for alternative solver options:\n",
      "    https://scikit-learn.org/stable/modules/linear_model.html#logistic-regression\n",
      "  n_iter_i = _check_optimize_result(\n",
      "/home/glebg/.local/lib/python3.9/site-packages/sklearn/linear_model/_logistic.py:814: ConvergenceWarning: lbfgs failed to converge (status=1):\n",
      "STOP: TOTAL NO. of ITERATIONS REACHED LIMIT.\n",
      "\n",
      "Increase the number of iterations (max_iter) or scale the data as shown in:\n",
      "    https://scikit-learn.org/stable/modules/preprocessing.html\n",
      "Please also refer to the documentation for alternative solver options:\n",
      "    https://scikit-learn.org/stable/modules/linear_model.html#logistic-regression\n",
      "  n_iter_i = _check_optimize_result(\n"
     ]
    },
    {
     "name": "stdout",
     "output_type": "stream",
     "text": [
      "{'C': 10} 0.8447387738306549\n"
     ]
    },
    {
     "data": {
      "image/png": "[encoded data removed]",
      "text/plain": [
       "<Figure size 1080x576 with 1 Axes>"
      ]
     },
     "metadata": {
      "needs_background": "light"
     },
     "output_type": "display_data"
    }
   ],
   "source": [
    "# Делим датасет на test и train\n",
    "X_train, X_test, y_train, y_test = train_test_split(X.values, y.values, \n",
    "                                                    train_size=0.8,\n",
    "                                                    random_state=42)\n",
    "\n",
    "# Обучение будет проводится по модели логистической регресии, при этом с\n",
    "# с помощью сетки для модели будет подбираться гиперпараметр C.\n",
    "C = [100, 10, 1, 0.1, 0.01, 0.001] # Варианты гиперпараметра\n",
    "model = LogisticRegression()\n",
    "param_name = 'C'\n",
    "\n",
    "parameters = {param_name: C}\n",
    "\n",
    "CV_model = GridSearchCV(estimator=model, \n",
    "                        param_grid=parameters,\n",
    "                        cv=5, \n",
    "                        scoring='roc_auc',\n",
    "                        n_jobs=-1, \n",
    "                        verbose=10)\n",
    "CV_model.fit(X_train, y_train) # обучение модели\n",
    "\n",
    "print(CV_model.best_params_, CV_model.best_score_)\n",
    "means = CV_model.cv_results_['mean_test_score']\n",
    "error = CV_model.cv_results_['std_test_score']\n",
    "\n",
    "# составление графика для обученой модели\n",
    "\n",
    "plt.figure(figsize=(15,8))\n",
    "plt.title('choose ' + param_name)\n",
    "\n",
    "\n",
    "plt.plot(C, means, label='mean values of score', color='red', lw=3)\n",
    "\n",
    "plt.fill_between(C, means - 2 * error, means + 2 * error, \n",
    "                color='green', label='filled area between errors', alpha=0.5)\n",
    "legend_box = plt.legend(framealpha=1).get_frame()\n",
    "legend_box.set_facecolor(\"white\")\n",
    "legend_box.set_edgecolor(\"black\")\n",
    "plt.xlabel('parameter')\n",
    "plt.ylabel('roc_auc')\n",
    "plt.show()\n",
    "    "
   ]
  },
  {
   "cell_type": "markdown",
   "metadata": {
    "id": "R6fE5W6P8U5F"
   },
   "source": [
    "По результату обученной модели, можно сделать вывод о том, что для логистической регрессии лучшим гиперпараметром C будет 10, при этом точность модели составляет 0.84474."
   ]
  },
  {
   "cell_type": "code",
   "execution_count": 13,
   "metadata": {
    "colab": {
     "base_uri": "https://localhost:8080/",
     "height": 527
    },
    "executionInfo": {
     "elapsed": 17579,
     "status": "error",
     "timestamp": 1634502635747,
     "user": {
      "displayName": "Александр Коломейцев",
      "photoUrl": "https://lh3.googleusercontent.com/a/default-user=s64",
      "userId": "12266641682940781501"
     },
     "user_tz": -180
    },
    "id": "wg09rKOb-Xh_",
    "outputId": "c24993fa-e396-4da7-aa23-a1f9c2670027"
   },
   "outputs": [
    {
     "ename": "ModuleNotFoundError",
     "evalue": "No module named 'google'",
     "output_type": "error",
     "traceback": [
      "\u001b[0;31m---------------------------------------------------------------------------\u001b[0m",
      "\u001b[0;31mModuleNotFoundError\u001b[0m                       Traceback (most recent call last)",
      "\u001b[0;32m/tmp/ipykernel_20674/1408506528.py\u001b[0m in \u001b[0;36m<module>\u001b[0;34m\u001b[0m\n\u001b[0;32m----> 1\u001b[0;31m \u001b[0;32mfrom\u001b[0m \u001b[0mgoogle\u001b[0m\u001b[0;34m.\u001b[0m\u001b[0mcolab\u001b[0m \u001b[0;32mimport\u001b[0m \u001b[0mdrive\u001b[0m\u001b[0;34m\u001b[0m\u001b[0;34m\u001b[0m\u001b[0m\n\u001b[0m\u001b[1;32m      2\u001b[0m \u001b[0mdrive\u001b[0m\u001b[0;34m.\u001b[0m\u001b[0mmount\u001b[0m\u001b[0;34m(\u001b[0m\u001b[0;34m'/content/drive'\u001b[0m\u001b[0;34m)\u001b[0m\u001b[0;34m\u001b[0m\u001b[0;34m\u001b[0m\u001b[0m\n",
      "\u001b[0;31mModuleNotFoundError\u001b[0m: No module named 'google'"
     ]
    },
    {
     "name": "stdout",
     "output_type": "stream",
     "text": [
      "[CV 3/5; 1/6] START C=100.......................................................\n",
      "[CV 3/5; 1/6] END ........................C=100;, score=0.869 total time=   0.1s\n",
      "[CV 3/5; 2/6] START C=10........................................................\n",
      "[CV 3/5; 2/6] END .........................C=10;, score=0.869 total time=   0.3s\n",
      "[CV 1/5; 3/6] START C=1.........................................................\n",
      "[CV 1/5; 3/6] END ..........................C=1;, score=0.836 total time=   0.2s\n",
      "[CV 3/5; 3/6] START C=1.........................................................\n",
      "[CV 3/5; 3/6] END ..........................C=1;, score=0.869 total time=   0.2s\n",
      "[CV 1/5; 4/6] START C=0.1.......................................................\n",
      "[CV 1/5; 4/6] END ........................C=0.1;, score=0.835 total time=   0.3s\n",
      "[CV 1/5; 5/6] START C=0.01......................................................\n",
      "[CV 1/5; 5/6] END .......................C=0.01;, score=0.832 total time=   0.1s\n",
      "[CV 3/5; 5/6] START C=0.01......................................................\n",
      "[CV 3/5; 5/6] END .......................C=0.01;, score=0.860 total time=   0.1s\n",
      "[CV 2/5; 6/6] START C=0.001.....................................................\n",
      "[CV 2/5; 6/6] END ......................C=0.001;, score=0.807 total time=   0.0s\n",
      "[CV 2/5; 1/6] START C=100.......................................................\n",
      "[CV 2/5; 1/6] END ........................C=100;, score=0.820 total time=   0.1s\n",
      "[CV 1/5; 2/6] START C=10........................................................\n",
      "[CV 1/5; 2/6] END .........................C=10;, score=0.837 total time=   0.4s\n",
      "[CV 4/5; 2/6] START C=10........................................................\n",
      "[CV 4/5; 2/6] END .........................C=10;, score=0.859 total time=   0.3s\n",
      "[CV 4/5; 3/6] START C=1.........................................................\n",
      "[CV 4/5; 3/6] END ..........................C=1;, score=0.859 total time=   0.3s\n",
      "[CV 3/5; 4/6] START C=0.1.......................................................\n",
      "[CV 3/5; 4/6] END ........................C=0.1;, score=0.868 total time=   0.2s\n",
      "[CV 4/5; 5/6] START C=0.01......................................................\n",
      "[CV 4/5; 5/6] END .......................C=0.01;, score=0.855 total time=   0.1s\n",
      "[CV 3/5; 6/6] START C=0.001.....................................................\n",
      "[CV 3/5; 6/6] END ......................C=0.001;, score=0.852 total time=   0.0s\n",
      "[CV 4/5; 1/6] START C=100.......................................................\n",
      "[CV 4/5; 1/6] END ........................C=100;, score=0.859 total time=   0.2s\n",
      "[CV 2/5; 3/6] START C=1.........................................................\n",
      "[CV 2/5; 3/6] END ..........................C=1;, score=0.820 total time=   0.3s\n",
      "[CV 2/5; 4/6] START C=0.1.......................................................\n",
      "[CV 2/5; 4/6] END ........................C=0.1;, score=0.819 total time=   0.2s\n",
      "[CV 5/5; 4/6] START C=0.1.......................................................\n",
      "[CV 5/5; 4/6] END ........................C=0.1;, score=0.837 total time=   0.2s\n",
      "[CV 5/5; 5/6] START C=0.01......................................................\n",
      "[CV 5/5; 5/6] END .......................C=0.01;, score=0.830 total time=   0.1s\n",
      "[CV 4/5; 6/6] START C=0.001.....................................................\n",
      "[CV 4/5; 6/6] END ......................C=0.001;, score=0.849 total time=   0.0s\n",
      "[CV 1/5; 1/6] START C=100.......................................................\n",
      "[CV 1/5; 1/6] END ........................C=100;, score=0.837 total time=   0.1s\n",
      "[CV 5/5; 1/6] START C=100.......................................................\n",
      "[CV 5/5; 1/6] END ........................C=100;, score=0.839 total time=   0.2s\n",
      "[CV 2/5; 2/6] START C=10........................................................\n",
      "[CV 2/5; 2/6] END .........................C=10;, score=0.820 total time=   0.3s\n",
      "[CV 5/5; 2/6] START C=10........................................................\n",
      "[CV 5/5; 2/6] END .........................C=10;, score=0.839 total time=   0.4s\n",
      "[CV 5/5; 3/6] START C=1.........................................................\n",
      "[CV 5/5; 3/6] END ..........................C=1;, score=0.838 total time=   0.2s\n",
      "[CV 4/5; 4/6] START C=0.1.......................................................\n",
      "[CV 4/5; 4/6] END ........................C=0.1;, score=0.857 total time=   0.1s\n",
      "[CV 2/5; 5/6] START C=0.01......................................................\n",
      "[CV 2/5; 5/6] END .......................C=0.01;, score=0.814 total time=   0.1s\n",
      "[CV 1/5; 6/6] START C=0.001.....................................................\n",
      "[CV 1/5; 6/6] END ......................C=0.001;, score=0.828 total time=   0.0s\n",
      "[CV 5/5; 6/6] START C=0.001.....................................................\n",
      "[CV 5/5; 6/6] END ......................C=0.001;, score=0.819 total time=   0.0s\n"
     ]
    }
   ],
   "source": [
    "from google.colab import drive\n",
    "drive.mount('/content/drive')"
   ]
  },
  {
   "cell_type": "markdown",
   "metadata": {
    "id": "BlTeVy7fEEZR"
   },
   "source": [
    "## Применение градиентного бустинга (2 балла)\n",
    "\n",
    "Если вы хотите получить баллы за точный ответ, то стоит попробовать градиентный бустинг. Часто градиентный бустинг с дефолтными параметрами даст вам 80% результата за 0% усилий.\n",
    "\n",
    "Мы будем использовать catboost, поэтому нам не надо кодировать категориальные признаки. catboost сделает это сам (в .fit() надо передать cat_features=cat_cols). А численные признаки нормировать для моделей, основанных на деревьях не нужно.\n",
    "\n",
    "1) Разделите выборку на train/valid. Протестируйте catboost cо стандартными параметрами.\n",
    "\n",
    "2) Протестируйте разные занчения параметроа количества деревьев и learning_rate'а и выберите лучшую по метрике ROC-AUC комбинацию. \n",
    "\n",
    "(Дополнительно) Есть некоторые сложности с тем, чтобы использовать CatBoostClassifier вместе с GridSearchCV, поэтому мы не просим использовать кроссвалидацию. Но можете попробовать)"
   ]
  },
  {
   "cell_type": "code",
   "execution_count": 19,
   "metadata": {
    "colab": {
     "base_uri": "https://localhost:8080/"
    },
    "executionInfo": {
     "elapsed": 13136,
     "status": "ok",
     "timestamp": 1634502877811,
     "user": {
      "displayName": "Александр Коломейцев",
      "photoUrl": "https://lh3.googleusercontent.com/a/default-user=s64",
      "userId": "12266641682940781501"
     },
     "user_tz": -180
    },
    "id": "yxyNxGFRGlk8",
    "outputId": "fef5ea51-796e-4c20-9f17-4a0b2fcb00d5"
   },
   "outputs": [
    {
     "name": "stdout",
     "output_type": "stream",
     "text": [
      "Collecting catboost\n",
      "  Downloading catboost-1.0.0-cp37-none-manylinux1_x86_64.whl (76.4 MB)\n",
      "\u001b[K     |████████████████████████████████| 76.4 MB 28 kB/s \n",
      "\u001b[?25hRequirement already satisfied: scipy in /usr/local/lib/python3.7/dist-packages (from catboost) (1.4.1)\n",
      "Requirement already satisfied: plotly in /usr/local/lib/python3.7/dist-packages (from catboost) (4.4.1)\n",
      "Requirement already satisfied: numpy>=1.16.0 in /usr/local/lib/python3.7/dist-packages (from catboost) (1.19.5)\n",
      "Requirement already satisfied: pandas>=0.24.0 in /usr/local/lib/python3.7/dist-packages (from catboost) (1.1.5)\n",
      "Requirement already satisfied: matplotlib in /usr/local/lib/python3.7/dist-packages (from catboost) (3.2.2)\n",
      "Requirement already satisfied: six in /usr/local/lib/python3.7/dist-packages (from catboost) (1.15.0)\n",
      "Requirement already satisfied: graphviz in /usr/local/lib/python3.7/dist-packages (from catboost) (0.10.1)\n",
      "Requirement already satisfied: python-dateutil>=2.7.3 in /usr/local/lib/python3.7/dist-packages (from pandas>=0.24.0->catboost) (2.8.2)\n",
      "Requirement already satisfied: pytz>=2017.2 in /usr/local/lib/python3.7/dist-packages (from pandas>=0.24.0->catboost) (2018.9)\n",
      "Requirement already satisfied: cycler>=0.10 in /usr/local/lib/python3.7/dist-packages (from matplotlib->catboost) (0.10.0)\n",
      "Requirement already satisfied: kiwisolver>=1.0.1 in /usr/local/lib/python3.7/dist-packages (from matplotlib->catboost) (1.3.2)\n",
      "Requirement already satisfied: pyparsing!=2.0.4,!=2.1.2,!=2.1.6,>=2.0.1 in /usr/local/lib/python3.7/dist-packages (from matplotlib->catboost) (2.4.7)\n",
      "Requirement already satisfied: retrying>=1.3.3 in /usr/local/lib/python3.7/dist-packages (from plotly->catboost) (1.3.3)\n",
      "Installing collected packages: catboost\n",
      "Successfully installed catboost-1.0.0\n"
     ]
    }
   ],
   "source": [
    "!pip install catboost"
   ]
  },
  {
   "cell_type": "markdown",
   "metadata": {
    "id": "ZirSBfPM8_R2"
   },
   "source": [
    "Испытваем модель градиентного бустнига"
   ]
  },
  {
   "cell_type": "code",
   "execution_count": 20,
   "metadata": {
    "colab": {
     "base_uri": "https://localhost:8080/"
    },
    "executionInfo": {
     "elapsed": 2844,
     "status": "ok",
     "timestamp": 1634502947229,
     "user": {
      "displayName": "Александр Коломейцев",
      "photoUrl": "https://lh3.googleusercontent.com/a/default-user=s64",
      "userId": "12266641682940781501"
     },
     "user_tz": -180
    },
    "id": "Fioxxlp-EEZS",
    "outputId": "13bbcc10-e747-4c3e-bba4-10a2f1a0877a"
   },
   "outputs": [
    {
     "name": "stdout",
     "output_type": "stream",
     "text": [
      "0:\ttest: 0.7659490\tbest: 0.7659490 (0)\ttotal: 55.7ms\tremaining: 223ms\n",
      "1:\ttest: 0.7985109\tbest: 0.7985109 (1)\ttotal: 65.4ms\tremaining: 98.1ms\n",
      "2:\ttest: 0.8153080\tbest: 0.8153080 (2)\ttotal: 73.2ms\tremaining: 48.8ms\n",
      "3:\ttest: 0.8157346\tbest: 0.8157346 (3)\ttotal: 79.5ms\tremaining: 19.9ms\n",
      "4:\ttest: 0.8179641\tbest: 0.8179641 (4)\ttotal: 85.8ms\tremaining: 0us\n",
      "\n",
      "bestTest = 0.8179641213\n",
      "bestIteration = 4\n",
      "\n",
      "Metric AUC is not calculated on train by default. To calculate this metric on train, add hints=skip_train~false to metric parameters.\n",
      "0:\tloss: 0.8179641\tbest: 0.8179641 (0)\ttotal: 103ms\tremaining: 5.03s\n",
      "0:\ttest: 0.7659490\tbest: 0.7659490 (0)\ttotal: 6.6ms\tremaining: 26.4ms\n",
      "1:\ttest: 0.7996325\tbest: 0.7996325 (1)\ttotal: 13.4ms\tremaining: 20.1ms\n",
      "2:\ttest: 0.8166016\tbest: 0.8166016 (2)\ttotal: 19.4ms\tremaining: 13ms\n",
      "3:\ttest: 0.8164778\tbest: 0.8166016 (2)\ttotal: 25.6ms\tremaining: 6.4ms\n",
      "4:\ttest: 0.8365675\tbest: 0.8365675 (4)\ttotal: 30.2ms\tremaining: 0us\n",
      "\n",
      "bestTest = 0.8365675082\n",
      "bestIteration = 4\n",
      "\n",
      "Metric AUC is not calculated on train by default. To calculate this metric on train, add hints=skip_train~false to metric parameters.\n",
      "1:\tloss: 0.8365675\tbest: 0.8365675 (1)\ttotal: 136ms\tremaining: 3.26s\n",
      "0:\ttest: 0.7659490\tbest: 0.7659490 (0)\ttotal: 6.67ms\tremaining: 26.7ms\n",
      "1:\ttest: 0.8073774\tbest: 0.8073774 (1)\ttotal: 13.4ms\tremaining: 20ms\n",
      "2:\ttest: 0.8411504\tbest: 0.8411504 (2)\ttotal: 21.6ms\tremaining: 14.4ms\n",
      "3:\ttest: 0.8472816\tbest: 0.8472816 (3)\ttotal: 27.8ms\tremaining: 6.95ms\n",
      "4:\ttest: 0.8525251\tbest: 0.8525251 (4)\ttotal: 33.9ms\tremaining: 0us\n",
      "\n",
      "bestTest = 0.8525250649\n",
      "bestIteration = 4\n",
      "\n",
      "Metric AUC is not calculated on train by default. To calculate this metric on train, add hints=skip_train~false to metric parameters.\n",
      "2:\tloss: 0.8525251\tbest: 0.8525251 (2)\ttotal: 172ms\tremaining: 2.69s\n",
      "0:\ttest: 0.7659490\tbest: 0.7659490 (0)\ttotal: 6.58ms\tremaining: 26.3ms\n",
      "1:\ttest: 0.8002415\tbest: 0.8002415 (1)\ttotal: 13.2ms\tremaining: 19.9ms\n",
      "2:\ttest: 0.8358691\tbest: 0.8358691 (2)\ttotal: 19.7ms\tremaining: 13.1ms\n",
      "3:\ttest: 0.8454718\tbest: 0.8454718 (3)\ttotal: 25.9ms\tremaining: 6.48ms\n",
      "4:\ttest: 0.8528760\tbest: 0.8528760 (4)\ttotal: 30.2ms\tremaining: 0us\n",
      "\n",
      "bestTest = 0.8528760072\n",
      "bestIteration = 4\n",
      "\n",
      "Metric AUC is not calculated on train by default. To calculate this metric on train, add hints=skip_train~false to metric parameters.\n",
      "3:\tloss: 0.8528760\tbest: 0.8528760 (3)\ttotal: 205ms\tremaining: 2.36s\n",
      "0:\ttest: 0.7659490\tbest: 0.7659490 (0)\ttotal: 6.68ms\tremaining: 26.7ms\n",
      "1:\ttest: 0.8352463\tbest: 0.8352463 (1)\ttotal: 13.5ms\tremaining: 20.2ms\n",
      "2:\ttest: 0.8442470\tbest: 0.8442470 (2)\ttotal: 19.2ms\tremaining: 12.8ms\n",
      "3:\ttest: 0.8491842\tbest: 0.8491842 (3)\ttotal: 24.4ms\tremaining: 6.1ms\n",
      "4:\ttest: 0.8526868\tbest: 0.8526868 (4)\ttotal: 30.6ms\tremaining: 0us\n",
      "\n",
      "bestTest = 0.8526867736\n",
      "bestIteration = 4\n",
      "\n",
      "Metric AUC is not calculated on train by default. To calculate this metric on train, add hints=skip_train~false to metric parameters.\n",
      "4:\tloss: 0.8526868\tbest: 0.8528760 (3)\ttotal: 239ms\tremaining: 2.15s\n",
      "0:\ttest: 0.7659490\tbest: 0.7659490 (0)\ttotal: 6.59ms\tremaining: 26.3ms\n",
      "1:\ttest: 0.8205721\tbest: 0.8205721 (1)\ttotal: 13.6ms\tremaining: 20.4ms\n",
      "2:\ttest: 0.8301301\tbest: 0.8301301 (2)\ttotal: 19.4ms\tremaining: 12.9ms\n",
      "3:\ttest: 0.8432767\tbest: 0.8432767 (3)\ttotal: 27.8ms\tremaining: 6.94ms\n",
      "4:\ttest: 0.8471921\tbest: 0.8471921 (4)\ttotal: 38.5ms\tremaining: 0us\n",
      "\n",
      "bestTest = 0.8471921169\n",
      "bestIteration = 4\n",
      "\n",
      "Metric AUC is not calculated on train by default. To calculate this metric on train, add hints=skip_train~false to metric parameters.\n",
      "5:\tloss: 0.8471921\tbest: 0.8528760 (3)\ttotal: 280ms\tremaining: 2.05s\n",
      "0:\ttest: 0.7659490\tbest: 0.7659490 (0)\ttotal: 6.59ms\tremaining: 26.4ms\n",
      "1:\ttest: 0.8195881\tbest: 0.8195881 (1)\ttotal: 13.5ms\tremaining: 20.2ms\n",
      "2:\ttest: 0.8277630\tbest: 0.8277630 (2)\ttotal: 19.2ms\tremaining: 12.8ms\n",
      "3:\ttest: 0.8312586\tbest: 0.8312586 (3)\ttotal: 23.2ms\tremaining: 5.81ms\n",
      "4:\ttest: 0.8405517\tbest: 0.8405517 (4)\ttotal: 29.4ms\tremaining: 0us\n",
      "\n",
      "bestTest = 0.8405517365\n",
      "bestIteration = 4\n",
      "\n",
      "Metric AUC is not calculated on train by default. To calculate this metric on train, add hints=skip_train~false to metric parameters.\n",
      "6:\tloss: 0.8405517\tbest: 0.8528760 (3)\ttotal: 313ms\tremaining: 1.92s\n",
      "0:\ttest: 0.7659490\tbest: 0.7659490 (0)\ttotal: 6.6ms\tremaining: 26.4ms\n",
      "1:\ttest: 0.8178712\tbest: 0.8178712 (1)\ttotal: 13.4ms\tremaining: 20.1ms\n",
      "2:\ttest: 0.8298962\tbest: 0.8298962 (2)\ttotal: 19.1ms\tremaining: 12.7ms\n",
      "3:\ttest: 0.8330030\tbest: 0.8330030 (3)\ttotal: 25.5ms\tremaining: 6.37ms\n",
      "4:\ttest: 0.8355973\tbest: 0.8355973 (4)\ttotal: 31.9ms\tremaining: 0us\n",
      "\n",
      "bestTest = 0.8355972558\n",
      "bestIteration = 4\n",
      "\n",
      "Metric AUC is not calculated on train by default. To calculate this metric on train, add hints=skip_train~false to metric parameters.\n",
      "7:\tloss: 0.8355973\tbest: 0.8528760 (3)\ttotal: 347ms\tremaining: 1.82s\n",
      "0:\ttest: 0.7659490\tbest: 0.7659490 (0)\ttotal: 6.69ms\tremaining: 26.8ms\n",
      "1:\ttest: 0.8179538\tbest: 0.8179538 (1)\ttotal: 13.6ms\tremaining: 20.4ms\n",
      "2:\ttest: 0.8262904\tbest: 0.8262904 (2)\ttotal: 19.4ms\tremaining: 12.9ms\n",
      "3:\ttest: 0.8286094\tbest: 0.8286094 (3)\ttotal: 25.7ms\tremaining: 6.42ms\n",
      "4:\ttest: 0.8368187\tbest: 0.8368187 (4)\ttotal: 30.8ms\tremaining: 0us\n",
      "\n",
      "bestTest = 0.8368186729\n",
      "bestIteration = 4\n",
      "\n",
      "Metric AUC is not calculated on train by default. To calculate this metric on train, add hints=skip_train~false to metric parameters.\n",
      "8:\tloss: 0.8368187\tbest: 0.8528760 (3)\ttotal: 381ms\tremaining: 1.74s\n",
      "0:\ttest: 0.7659490\tbest: 0.7659490 (0)\ttotal: 6.68ms\tremaining: 33.4ms\n",
      "1:\ttest: 0.7985109\tbest: 0.7985109 (1)\ttotal: 13.5ms\tremaining: 26.9ms\n",
      "2:\ttest: 0.8153080\tbest: 0.8153080 (2)\ttotal: 19.7ms\tremaining: 19.7ms\n",
      "3:\ttest: 0.8157346\tbest: 0.8157346 (3)\ttotal: 25.8ms\tremaining: 12.9ms\n",
      "4:\ttest: 0.8179641\tbest: 0.8179641 (4)\ttotal: 32.2ms\tremaining: 6.45ms\n",
      "5:\ttest: 0.8204758\tbest: 0.8204758 (5)\ttotal: 38.7ms\tremaining: 0us\n",
      "\n",
      "bestTest = 0.8204757678\n",
      "bestIteration = 5\n",
      "\n",
      "Metric AUC is not calculated on train by default. To calculate this metric on train, add hints=skip_train~false to metric parameters.\n",
      "9:\tloss: 0.8204758\tbest: 0.8528760 (3)\ttotal: 423ms\tremaining: 1.69s\n",
      "0:\ttest: 0.7659490\tbest: 0.7659490 (0)\ttotal: 6.78ms\tremaining: 33.9ms\n",
      "1:\ttest: 0.7996325\tbest: 0.7996325 (1)\ttotal: 13.7ms\tremaining: 27.4ms\n",
      "2:\ttest: 0.8166016\tbest: 0.8166016 (2)\ttotal: 19.9ms\tremaining: 19.9ms\n",
      "3:\ttest: 0.8164778\tbest: 0.8166016 (2)\ttotal: 26.3ms\tremaining: 13.1ms\n",
      "4:\ttest: 0.8365675\tbest: 0.8365675 (4)\ttotal: 31ms\tremaining: 6.2ms\n",
      "5:\ttest: 0.8450830\tbest: 0.8450830 (5)\ttotal: 38.9ms\tremaining: 0us\n",
      "\n",
      "bestTest = 0.845083022\n",
      "bestIteration = 5\n",
      "\n",
      "Metric AUC is not calculated on train by default. To calculate this metric on train, add hints=skip_train~false to metric parameters.\n",
      "10:\tloss: 0.8450830\tbest: 0.8528760 (3)\ttotal: 469ms\tremaining: 1.66s\n",
      "0:\ttest: 0.7659490\tbest: 0.7659490 (0)\ttotal: 7.09ms\tremaining: 35.5ms\n",
      "1:\ttest: 0.8073774\tbest: 0.8073774 (1)\ttotal: 17.3ms\tremaining: 34.5ms\n",
      "2:\ttest: 0.8411504\tbest: 0.8411504 (2)\ttotal: 24.1ms\tremaining: 24.1ms\n",
      "3:\ttest: 0.8472816\tbest: 0.8472816 (3)\ttotal: 30.5ms\tremaining: 15.2ms\n",
      "4:\ttest: 0.8525251\tbest: 0.8525251 (4)\ttotal: 36.7ms\tremaining: 7.34ms\n",
      "5:\ttest: 0.8542901\tbest: 0.8542901 (5)\ttotal: 43.5ms\tremaining: 0us\n",
      "\n",
      "bestTest = 0.8542900986\n",
      "bestIteration = 5\n",
      "\n",
      "Metric AUC is not calculated on train by default. To calculate this metric on train, add hints=skip_train~false to metric parameters.\n",
      "11:\tloss: 0.8542901\tbest: 0.8542901 (11)\ttotal: 517ms\tremaining: 1.64s\n",
      "0:\ttest: 0.7659490\tbest: 0.7659490 (0)\ttotal: 7.02ms\tremaining: 35.1ms\n",
      "1:\ttest: 0.8002415\tbest: 0.8002415 (1)\ttotal: 13.9ms\tremaining: 27.8ms\n",
      "2:\ttest: 0.8358691\tbest: 0.8358691 (2)\ttotal: 20.6ms\tremaining: 20.6ms\n",
      "3:\ttest: 0.8454718\tbest: 0.8454718 (3)\ttotal: 27.2ms\tremaining: 13.6ms\n",
      "4:\ttest: 0.8528760\tbest: 0.8528760 (4)\ttotal: 32.1ms\tremaining: 6.41ms\n",
      "5:\ttest: 0.8531272\tbest: 0.8531272 (5)\ttotal: 38.9ms\tremaining: 0us\n",
      "\n",
      "bestTest = 0.8531271719\n",
      "bestIteration = 5\n",
      "\n",
      "Metric AUC is not calculated on train by default. To calculate this metric on train, add hints=skip_train~false to metric parameters.\n",
      "12:\tloss: 0.8531272\tbest: 0.8542901 (11)\ttotal: 559ms\tremaining: 1.59s\n",
      "0:\ttest: 0.7659490\tbest: 0.7659490 (0)\ttotal: 7ms\tremaining: 35ms\n",
      "1:\ttest: 0.8352463\tbest: 0.8352463 (1)\ttotal: 14.1ms\tremaining: 28.2ms\n",
      "2:\ttest: 0.8442470\tbest: 0.8442470 (2)\ttotal: 19.9ms\tremaining: 19.9ms\n",
      "3:\ttest: 0.8491842\tbest: 0.8491842 (3)\ttotal: 27.6ms\tremaining: 13.8ms\n",
      "4:\ttest: 0.8526868\tbest: 0.8526868 (4)\ttotal: 36.9ms\tremaining: 7.38ms\n",
      "5:\ttest: 0.8537912\tbest: 0.8537912 (5)\ttotal: 40.7ms\tremaining: 0us\n",
      "\n",
      "bestTest = 0.8537912099\n",
      "bestIteration = 5\n",
      "\n",
      "Metric AUC is not calculated on train by default. To calculate this metric on train, add hints=skip_train~false to metric parameters.\n",
      "13:\tloss: 0.8537912\tbest: 0.8542901 (11)\ttotal: 603ms\tremaining: 1.55s\n",
      "0:\ttest: 0.7659490\tbest: 0.7659490 (0)\ttotal: 6.88ms\tremaining: 34.4ms\n",
      "1:\ttest: 0.8205721\tbest: 0.8205721 (1)\ttotal: 14ms\tremaining: 28ms\n",
      "2:\ttest: 0.8301301\tbest: 0.8301301 (2)\ttotal: 19.9ms\tremaining: 19.9ms\n",
      "3:\ttest: 0.8432767\tbest: 0.8432767 (3)\ttotal: 26.7ms\tremaining: 13.4ms\n",
      "4:\ttest: 0.8471921\tbest: 0.8471921 (4)\ttotal: 33ms\tremaining: 6.61ms\n",
      "5:\ttest: 0.8499997\tbest: 0.8499997 (5)\ttotal: 39.4ms\tremaining: 0us\n",
      "\n",
      "bestTest = 0.8499996559\n",
      "bestIteration = 5\n",
      "\n",
      "Metric AUC is not calculated on train by default. To calculate this metric on train, add hints=skip_train~false to metric parameters.\n",
      "14:\tloss: 0.8499997\tbest: 0.8542901 (11)\ttotal: 646ms\tremaining: 1.51s\n",
      "0:\ttest: 0.7659490\tbest: 0.7659490 (0)\ttotal: 6.75ms\tremaining: 33.7ms\n",
      "1:\ttest: 0.8195881\tbest: 0.8195881 (1)\ttotal: 13.9ms\tremaining: 27.7ms\n",
      "2:\ttest: 0.8277630\tbest: 0.8277630 (2)\ttotal: 19.5ms\tremaining: 19.5ms\n",
      "3:\ttest: 0.8312586\tbest: 0.8312586 (3)\ttotal: 23.6ms\tremaining: 11.8ms\n",
      "4:\ttest: 0.8405517\tbest: 0.8405517 (4)\ttotal: 29.8ms\tremaining: 5.97ms\n",
      "5:\ttest: 0.8500169\tbest: 0.8500169 (5)\ttotal: 35.7ms\tremaining: 0us\n",
      "\n",
      "bestTest = 0.850016859\n",
      "bestIteration = 5\n",
      "\n",
      "Metric AUC is not calculated on train by default. To calculate this metric on train, add hints=skip_train~false to metric parameters.\n",
      "15:\tloss: 0.8500169\tbest: 0.8542901 (11)\ttotal: 687ms\tremaining: 1.46s\n",
      "0:\ttest: 0.7659490\tbest: 0.7659490 (0)\ttotal: 6.68ms\tremaining: 33.4ms\n",
      "1:\ttest: 0.8178712\tbest: 0.8178712 (1)\ttotal: 13.6ms\tremaining: 27.1ms\n",
      "2:\ttest: 0.8298962\tbest: 0.8298962 (2)\ttotal: 21.7ms\tremaining: 21.7ms\n",
      "3:\ttest: 0.8330030\tbest: 0.8330030 (3)\ttotal: 30.5ms\tremaining: 15.2ms\n",
      "4:\ttest: 0.8355973\tbest: 0.8355973 (4)\ttotal: 36.8ms\tremaining: 7.36ms\n",
      "5:\ttest: 0.8351534\tbest: 0.8355973 (4)\ttotal: 43ms\tremaining: 0us\n",
      "\n",
      "bestTest = 0.8355972558\n",
      "bestIteration = 4\n",
      "\n",
      "Metric AUC is not calculated on train by default. To calculate this metric on train, add hints=skip_train~false to metric parameters.\n",
      "16:\tloss: 0.8355973\tbest: 0.8542901 (11)\ttotal: 733ms\tremaining: 1.42s\n",
      "0:\ttest: 0.7659490\tbest: 0.7659490 (0)\ttotal: 6.8ms\tremaining: 34ms\n",
      "1:\ttest: 0.8179538\tbest: 0.8179538 (1)\ttotal: 13.7ms\tremaining: 27.4ms\n",
      "2:\ttest: 0.8262904\tbest: 0.8262904 (2)\ttotal: 19.5ms\tremaining: 19.5ms\n",
      "3:\ttest: 0.8286094\tbest: 0.8286094 (3)\ttotal: 26.3ms\tremaining: 13.1ms\n",
      "4:\ttest: 0.8368187\tbest: 0.8368187 (4)\ttotal: 31.5ms\tremaining: 6.3ms\n",
      "5:\ttest: 0.8393888\tbest: 0.8393888 (5)\ttotal: 36.8ms\tremaining: 0us\n",
      "\n",
      "bestTest = 0.8393888098\n",
      "bestIteration = 5\n",
      "\n",
      "Metric AUC is not calculated on train by default. To calculate this metric on train, add hints=skip_train~false to metric parameters.\n",
      "17:\tloss: 0.8393888\tbest: 0.8542901 (11)\ttotal: 773ms\tremaining: 1.37s\n",
      "0:\ttest: 0.7659490\tbest: 0.7659490 (0)\ttotal: 7.97ms\tremaining: 47.8ms\n",
      "1:\ttest: 0.7985109\tbest: 0.7985109 (1)\ttotal: 14.8ms\tremaining: 37.1ms\n",
      "2:\ttest: 0.8153080\tbest: 0.8153080 (2)\ttotal: 21ms\tremaining: 28.1ms\n",
      "3:\ttest: 0.8157346\tbest: 0.8157346 (3)\ttotal: 27.4ms\tremaining: 20.6ms\n",
      "4:\ttest: 0.8179641\tbest: 0.8179641 (4)\ttotal: 33.5ms\tremaining: 13.4ms\n",
      "5:\ttest: 0.8204758\tbest: 0.8204758 (5)\ttotal: 39.7ms\tremaining: 6.62ms\n",
      "6:\ttest: 0.8355697\tbest: 0.8355697 (6)\ttotal: 43.6ms\tremaining: 0us\n",
      "\n",
      "bestTest = 0.8355697309\n",
      "bestIteration = 6\n",
      "\n",
      "Metric AUC is not calculated on train by default. To calculate this metric on train, add hints=skip_train~false to metric parameters.\n",
      "18:\tloss: 0.8355697\tbest: 0.8542901 (11)\ttotal: 819ms\tremaining: 1.34s\n",
      "0:\ttest: 0.7659490\tbest: 0.7659490 (0)\ttotal: 7.54ms\tremaining: 45.3ms\n",
      "1:\ttest: 0.7996325\tbest: 0.7996325 (1)\ttotal: 14.6ms\tremaining: 36.5ms\n",
      "2:\ttest: 0.8166016\tbest: 0.8166016 (2)\ttotal: 20.9ms\tremaining: 27.9ms\n",
      "3:\ttest: 0.8164778\tbest: 0.8166016 (2)\ttotal: 27.2ms\tremaining: 20.4ms\n",
      "4:\ttest: 0.8365675\tbest: 0.8365675 (4)\ttotal: 31.8ms\tremaining: 12.7ms\n",
      "5:\ttest: 0.8450830\tbest: 0.8450830 (5)\ttotal: 38.3ms\tremaining: 6.38ms\n",
      "6:\ttest: 0.8493494\tbest: 0.8493494 (6)\ttotal: 49.4ms\tremaining: 0us\n",
      "\n",
      "bestTest = 0.8493493803\n",
      "bestIteration = 6\n",
      "\n",
      "Metric AUC is not calculated on train by default. To calculate this metric on train, add hints=skip_train~false to metric parameters.\n",
      "19:\tloss: 0.8493494\tbest: 0.8542901 (11)\ttotal: 871ms\tremaining: 1.31s\n",
      "0:\ttest: 0.7659490\tbest: 0.7659490 (0)\ttotal: 7.87ms\tremaining: 47.2ms\n",
      "1:\ttest: 0.8073774\tbest: 0.8073774 (1)\ttotal: 20ms\tremaining: 50ms\n",
      "2:\ttest: 0.8411504\tbest: 0.8411504 (2)\ttotal: 26.3ms\tremaining: 35ms\n",
      "3:\ttest: 0.8472816\tbest: 0.8472816 (3)\ttotal: 32.7ms\tremaining: 24.5ms\n",
      "4:\ttest: 0.8525251\tbest: 0.8525251 (4)\ttotal: 38.9ms\tremaining: 15.6ms\n",
      "5:\ttest: 0.8542901\tbest: 0.8542901 (5)\ttotal: 45.2ms\tremaining: 7.53ms\n",
      "6:\ttest: 0.8540905\tbest: 0.8542901 (5)\ttotal: 51.8ms\tremaining: 0us\n",
      "\n",
      "bestTest = 0.8542900986\n",
      "bestIteration = 5\n",
      "\n",
      "Metric AUC is not calculated on train by default. To calculate this metric on train, add hints=skip_train~false to metric parameters.\n",
      "20:\tloss: 0.8542901\tbest: 0.8542901 (11)\ttotal: 928ms\tremaining: 1.28s\n",
      "0:\ttest: 0.7659490\tbest: 0.7659490 (0)\ttotal: 6.69ms\tremaining: 40.1ms\n",
      "1:\ttest: 0.8002415\tbest: 0.8002415 (1)\ttotal: 13.7ms\tremaining: 34.2ms\n",
      "2:\ttest: 0.8358691\tbest: 0.8358691 (2)\ttotal: 20.4ms\tremaining: 27.2ms\n",
      "3:\ttest: 0.8454718\tbest: 0.8454718 (3)\ttotal: 26.6ms\tremaining: 20ms\n",
      "4:\ttest: 0.8528760\tbest: 0.8528760 (4)\ttotal: 31ms\tremaining: 12.4ms\n",
      "5:\ttest: 0.8531272\tbest: 0.8531272 (5)\ttotal: 37.2ms\tremaining: 6.21ms\n",
      "6:\ttest: 0.8540974\tbest: 0.8540974 (6)\ttotal: 43.7ms\tremaining: 0us\n",
      "\n",
      "bestTest = 0.8540974244\n",
      "bestIteration = 6\n",
      "\n",
      "Metric AUC is not calculated on train by default. To calculate this metric on train, add hints=skip_train~false to metric parameters.\n",
      "21:\tloss: 0.8540974\tbest: 0.8542901 (11)\ttotal: 975ms\tremaining: 1.24s\n",
      "0:\ttest: 0.7659490\tbest: 0.7659490 (0)\ttotal: 6.73ms\tremaining: 40.4ms\n",
      "1:\ttest: 0.8352463\tbest: 0.8352463 (1)\ttotal: 18.9ms\tremaining: 47.3ms\n",
      "2:\ttest: 0.8442470\tbest: 0.8442470 (2)\ttotal: 26.1ms\tremaining: 34.9ms\n",
      "3:\ttest: 0.8491842\tbest: 0.8491842 (3)\ttotal: 31.4ms\tremaining: 23.5ms\n",
      "4:\ttest: 0.8526868\tbest: 0.8526868 (4)\ttotal: 37.6ms\tremaining: 15ms\n",
      "5:\ttest: 0.8537912\tbest: 0.8537912 (5)\ttotal: 41.2ms\tremaining: 6.86ms\n",
      "6:\ttest: 0.8553601\tbest: 0.8553601 (6)\ttotal: 47.7ms\tremaining: 0us\n",
      "\n",
      "bestTest = 0.8553601288\n",
      "bestIteration = 6\n",
      "\n",
      "Metric AUC is not calculated on train by default. To calculate this metric on train, add hints=skip_train~false to metric parameters.\n",
      "22:\tloss: 0.8553601\tbest: 0.8553601 (22)\ttotal: 1.03s\tremaining: 1.21s\n",
      "0:\ttest: 0.7659490\tbest: 0.7659490 (0)\ttotal: 6.64ms\tremaining: 39.8ms\n",
      "1:\ttest: 0.8205721\tbest: 0.8205721 (1)\ttotal: 13.5ms\tremaining: 33.7ms\n",
      "2:\ttest: 0.8301301\tbest: 0.8301301 (2)\ttotal: 19.1ms\tremaining: 25.5ms\n",
      "3:\ttest: 0.8432767\tbest: 0.8432767 (3)\ttotal: 25.4ms\tremaining: 19ms\n",
      "4:\ttest: 0.8471921\tbest: 0.8471921 (4)\ttotal: 31.4ms\tremaining: 12.6ms\n",
      "5:\ttest: 0.8499997\tbest: 0.8499997 (5)\ttotal: 37.6ms\tremaining: 6.27ms\n",
      "6:\ttest: 0.8488333\tbest: 0.8499997 (5)\ttotal: 41.7ms\tremaining: 0us\n",
      "\n",
      "bestTest = 0.8499996559\n",
      "bestIteration = 5\n",
      "\n",
      "Metric AUC is not calculated on train by default. To calculate this metric on train, add hints=skip_train~false to metric parameters.\n",
      "23:\tloss: 0.8499997\tbest: 0.8553601 (22)\ttotal: 1.07s\tremaining: 1.16s\n",
      "0:\ttest: 0.7659490\tbest: 0.7659490 (0)\ttotal: 6.68ms\tremaining: 40.1ms\n",
      "1:\ttest: 0.8195881\tbest: 0.8195881 (1)\ttotal: 13.5ms\tremaining: 33.8ms\n",
      "2:\ttest: 0.8277630\tbest: 0.8277630 (2)\ttotal: 21.8ms\tremaining: 29.1ms\n",
      "3:\ttest: 0.8312586\tbest: 0.8312586 (3)\ttotal: 28ms\tremaining: 21ms\n",
      "4:\ttest: 0.8405517\tbest: 0.8405517 (4)\ttotal: 35.1ms\tremaining: 14ms\n",
      "5:\ttest: 0.8500169\tbest: 0.8500169 (5)\ttotal: 39.5ms\tremaining: 6.58ms\n",
      "6:\ttest: 0.8502921\tbest: 0.8502921 (6)\ttotal: 46.5ms\tremaining: 0us\n",
      "\n",
      "bestTest = 0.8502921079\n",
      "bestIteration = 6\n",
      "\n",
      "Metric AUC is not calculated on train by default. To calculate this metric on train, add hints=skip_train~false to metric parameters.\n",
      "24:\tloss: 0.8502921\tbest: 0.8553601 (22)\ttotal: 1.12s\tremaining: 1.12s\n",
      "0:\ttest: 0.7659490\tbest: 0.7659490 (0)\ttotal: 10.7ms\tremaining: 64.2ms\n",
      "1:\ttest: 0.8178712\tbest: 0.8178712 (1)\ttotal: 17.7ms\tremaining: 44.3ms\n",
      "2:\ttest: 0.8298962\tbest: 0.8298962 (2)\ttotal: 23.3ms\tremaining: 31.1ms\n",
      "3:\ttest: 0.8330030\tbest: 0.8330030 (3)\ttotal: 29.8ms\tremaining: 22.4ms\n",
      "4:\ttest: 0.8355973\tbest: 0.8355973 (4)\ttotal: 36.2ms\tremaining: 14.5ms\n",
      "5:\ttest: 0.8351534\tbest: 0.8355973 (4)\ttotal: 42.5ms\tremaining: 7.08ms\n",
      "6:\ttest: 0.8470923\tbest: 0.8470923 (6)\ttotal: 48.7ms\tremaining: 0us\n",
      "\n",
      "bestTest = 0.8470923391\n",
      "bestIteration = 6\n",
      "\n",
      "Metric AUC is not calculated on train by default. To calculate this metric on train, add hints=skip_train~false to metric parameters.\n",
      "25:\tloss: 0.8470923\tbest: 0.8553601 (22)\ttotal: 1.17s\tremaining: 1.08s\n",
      "0:\ttest: 0.7659490\tbest: 0.7659490 (0)\ttotal: 6.68ms\tremaining: 40.1ms\n",
      "1:\ttest: 0.8179538\tbest: 0.8179538 (1)\ttotal: 13.7ms\tremaining: 34.2ms\n",
      "2:\ttest: 0.8262904\tbest: 0.8262904 (2)\ttotal: 19.5ms\tremaining: 26ms\n",
      "3:\ttest: 0.8286094\tbest: 0.8286094 (3)\ttotal: 25.8ms\tremaining: 19.3ms\n",
      "4:\ttest: 0.8368187\tbest: 0.8368187 (4)\ttotal: 30.9ms\tremaining: 12.4ms\n",
      "5:\ttest: 0.8393888\tbest: 0.8393888 (5)\ttotal: 36.1ms\tremaining: 6.01ms\n",
      "6:\ttest: 0.8471818\tbest: 0.8471818 (6)\ttotal: 42.4ms\tremaining: 0us\n",
      "\n",
      "bestTest = 0.847181795\n",
      "bestIteration = 6\n",
      "\n",
      "Metric AUC is not calculated on train by default. To calculate this metric on train, add hints=skip_train~false to metric parameters.\n",
      "26:\tloss: 0.8471818\tbest: 0.8553601 (22)\ttotal: 1.22s\tremaining: 1.04s\n",
      "0:\ttest: 0.7659490\tbest: 0.7659490 (0)\ttotal: 6.79ms\tremaining: 47.5ms\n",
      "1:\ttest: 0.7985109\tbest: 0.7985109 (1)\ttotal: 13.6ms\tremaining: 40.8ms\n",
      "2:\ttest: 0.8153080\tbest: 0.8153080 (2)\ttotal: 19.8ms\tremaining: 33ms\n",
      "3:\ttest: 0.8157346\tbest: 0.8157346 (3)\ttotal: 26.4ms\tremaining: 26.4ms\n",
      "4:\ttest: 0.8179641\tbest: 0.8179641 (4)\ttotal: 35.2ms\tremaining: 21.1ms\n",
      "5:\ttest: 0.8204758\tbest: 0.8204758 (5)\ttotal: 41.5ms\tremaining: 13.8ms\n",
      "6:\ttest: 0.8355697\tbest: 0.8355697 (6)\ttotal: 45.4ms\tremaining: 6.49ms\n",
      "7:\ttest: 0.8420037\tbest: 0.8420037 (7)\ttotal: 51.6ms\tremaining: 0us\n",
      "\n",
      "bestTest = 0.8420036746\n",
      "bestIteration = 7\n",
      "\n",
      "Metric AUC is not calculated on train by default. To calculate this metric on train, add hints=skip_train~false to metric parameters.\n",
      "27:\tloss: 0.8420037\tbest: 0.8553601 (22)\ttotal: 1.27s\tremaining: 1s\n",
      "0:\ttest: 0.7659490\tbest: 0.7659490 (0)\ttotal: 6.9ms\tremaining: 48.3ms\n",
      "1:\ttest: 0.7996325\tbest: 0.7996325 (1)\ttotal: 13.8ms\tremaining: 41.5ms\n",
      "2:\ttest: 0.8166016\tbest: 0.8166016 (2)\ttotal: 20.7ms\tremaining: 34.4ms\n",
      "3:\ttest: 0.8164778\tbest: 0.8166016 (2)\ttotal: 30.9ms\tremaining: 30.9ms\n",
      "4:\ttest: 0.8365675\tbest: 0.8365675 (4)\ttotal: 35.7ms\tremaining: 21.4ms\n",
      "5:\ttest: 0.8450830\tbest: 0.8450830 (5)\ttotal: 42ms\tremaining: 14ms\n",
      "6:\ttest: 0.8493494\tbest: 0.8493494 (6)\ttotal: 48.5ms\tremaining: 6.92ms\n",
      "7:\ttest: 0.8540940\tbest: 0.8540940 (7)\ttotal: 54.8ms\tremaining: 0us\n",
      "\n",
      "bestTest = 0.8540939837\n",
      "bestIteration = 7\n",
      "\n",
      "Metric AUC is not calculated on train by default. To calculate this metric on train, add hints=skip_train~false to metric parameters.\n",
      "28:\tloss: 0.8540940\tbest: 0.8553601 (22)\ttotal: 1.33s\tremaining: 965ms\n",
      "0:\ttest: 0.7659490\tbest: 0.7659490 (0)\ttotal: 6.73ms\tremaining: 47.1ms\n",
      "1:\ttest: 0.8073774\tbest: 0.8073774 (1)\ttotal: 13.6ms\tremaining: 40.7ms\n",
      "2:\ttest: 0.8411504\tbest: 0.8411504 (2)\ttotal: 20ms\tremaining: 33.4ms\n",
      "3:\ttest: 0.8472816\tbest: 0.8472816 (3)\ttotal: 26.3ms\tremaining: 26.3ms\n",
      "4:\ttest: 0.8525251\tbest: 0.8525251 (4)\ttotal: 32.8ms\tremaining: 19.7ms\n",
      "5:\ttest: 0.8542901\tbest: 0.8542901 (5)\ttotal: 39.1ms\tremaining: 13ms\n",
      "6:\ttest: 0.8540905\tbest: 0.8542901 (5)\ttotal: 45.3ms\tremaining: 6.47ms\n",
      "7:\ttest: 0.8540905\tbest: 0.8542901 (5)\ttotal: 48.5ms\tremaining: 0us\n",
      "\n",
      "bestTest = 0.8542900986\n",
      "bestIteration = 5\n",
      "\n",
      "Metric AUC is not calculated on train by default. To calculate this metric on train, add hints=skip_train~false to metric parameters.\n",
      "29:\tloss: 0.8542901\tbest: 0.8553601 (22)\ttotal: 1.38s\tremaining: 923ms\n",
      "0:\ttest: 0.7659490\tbest: 0.7659490 (0)\ttotal: 6.6ms\tremaining: 46.2ms\n",
      "1:\ttest: 0.8002415\tbest: 0.8002415 (1)\ttotal: 13.5ms\tremaining: 40.4ms\n",
      "2:\ttest: 0.8358691\tbest: 0.8358691 (2)\ttotal: 19.9ms\tremaining: 33.2ms\n",
      "3:\ttest: 0.8454718\tbest: 0.8454718 (3)\ttotal: 29.5ms\tremaining: 29.5ms\n",
      "4:\ttest: 0.8528760\tbest: 0.8528760 (4)\ttotal: 34ms\tremaining: 20.4ms\n",
      "5:\ttest: 0.8531272\tbest: 0.8531272 (5)\ttotal: 40.2ms\tremaining: 13.4ms\n",
      "6:\ttest: 0.8540974\tbest: 0.8540974 (6)\ttotal: 46.9ms\tremaining: 6.7ms\n",
      "7:\ttest: 0.8555528\tbest: 0.8555528 (7)\ttotal: 53.7ms\tremaining: 0us\n",
      "\n",
      "bestTest = 0.8555528031\n",
      "bestIteration = 7\n",
      "\n",
      "Metric AUC is not calculated on train by default. To calculate this metric on train, add hints=skip_train~false to metric parameters.\n",
      "30:\tloss: 0.8555528\tbest: 0.8555528 (30)\ttotal: 1.44s\tremaining: 884ms\n",
      "0:\ttest: 0.7659490\tbest: 0.7659490 (0)\ttotal: 6.83ms\tremaining: 47.8ms\n",
      "1:\ttest: 0.8352463\tbest: 0.8352463 (1)\ttotal: 14.6ms\tremaining: 43.7ms\n",
      "2:\ttest: 0.8442470\tbest: 0.8442470 (2)\ttotal: 20.4ms\tremaining: 34.1ms\n",
      "3:\ttest: 0.8491842\tbest: 0.8491842 (3)\ttotal: 25.9ms\tremaining: 25.9ms\n",
      "4:\ttest: 0.8526868\tbest: 0.8526868 (4)\ttotal: 32.3ms\tremaining: 19.4ms\n",
      "5:\ttest: 0.8537912\tbest: 0.8537912 (5)\ttotal: 35.9ms\tremaining: 12ms\n",
      "6:\ttest: 0.8553601\tbest: 0.8553601 (6)\ttotal: 42.2ms\tremaining: 6.03ms\n",
      "7:\ttest: 0.8557764\tbest: 0.8557764 (7)\ttotal: 48.6ms\tremaining: 0us\n",
      "\n",
      "bestTest = 0.8557764428\n",
      "bestIteration = 7\n",
      "\n",
      "Metric AUC is not calculated on train by default. To calculate this metric on train, add hints=skip_train~false to metric parameters.\n",
      "31:\tloss: 0.8557764\tbest: 0.8557764 (31)\ttotal: 1.49s\tremaining: 840ms\n",
      "0:\ttest: 0.7659490\tbest: 0.7659490 (0)\ttotal: 11.3ms\tremaining: 78.8ms\n",
      "1:\ttest: 0.8205721\tbest: 0.8205721 (1)\ttotal: 18.8ms\tremaining: 56.5ms\n",
      "2:\ttest: 0.8301301\tbest: 0.8301301 (2)\ttotal: 24.8ms\tremaining: 41.3ms\n",
      "3:\ttest: 0.8432767\tbest: 0.8432767 (3)\ttotal: 31.3ms\tremaining: 31.3ms\n",
      "4:\ttest: 0.8471921\tbest: 0.8471921 (4)\ttotal: 37.7ms\tremaining: 22.6ms\n",
      "5:\ttest: 0.8499997\tbest: 0.8499997 (5)\ttotal: 44.3ms\tremaining: 14.8ms\n",
      "6:\ttest: 0.8488333\tbest: 0.8499997 (5)\ttotal: 51.2ms\tremaining: 7.31ms\n",
      "7:\ttest: 0.8479731\tbest: 0.8499997 (5)\ttotal: 58.8ms\tremaining: 0us\n",
      "\n",
      "bestTest = 0.8499996559\n",
      "bestIteration = 5\n",
      "\n",
      "Metric AUC is not calculated on train by default. To calculate this metric on train, add hints=skip_train~false to metric parameters.\n",
      "32:\tloss: 0.8499997\tbest: 0.8557764 (31)\ttotal: 1.56s\tremaining: 802ms\n",
      "0:\ttest: 0.7659490\tbest: 0.7659490 (0)\ttotal: 6.64ms\tremaining: 46.5ms\n",
      "1:\ttest: 0.8195881\tbest: 0.8195881 (1)\ttotal: 13.5ms\tremaining: 40.5ms\n",
      "2:\ttest: 0.8277630\tbest: 0.8277630 (2)\ttotal: 19.5ms\tremaining: 32.4ms\n",
      "3:\ttest: 0.8312586\tbest: 0.8312586 (3)\ttotal: 23.6ms\tremaining: 23.6ms\n",
      "4:\ttest: 0.8405517\tbest: 0.8405517 (4)\ttotal: 30.1ms\tremaining: 18ms\n",
      "5:\ttest: 0.8500169\tbest: 0.8500169 (5)\ttotal: 34.4ms\tremaining: 11.5ms\n",
      "6:\ttest: 0.8502921\tbest: 0.8502921 (6)\ttotal: 40.8ms\tremaining: 5.82ms\n",
      "7:\ttest: 0.8505054\tbest: 0.8505054 (7)\ttotal: 47ms\tremaining: 0us\n",
      "\n",
      "bestTest = 0.8505054258\n",
      "bestIteration = 7\n",
      "\n",
      "Metric AUC is not calculated on train by default. To calculate this metric on train, add hints=skip_train~false to metric parameters.\n",
      "33:\tloss: 0.8505054\tbest: 0.8557764 (31)\ttotal: 1.61s\tremaining: 756ms\n",
      "0:\ttest: 0.7659490\tbest: 0.7659490 (0)\ttotal: 6.57ms\tremaining: 46ms\n",
      "1:\ttest: 0.8178712\tbest: 0.8178712 (1)\ttotal: 13.5ms\tremaining: 40.6ms\n",
      "2:\ttest: 0.8298962\tbest: 0.8298962 (2)\ttotal: 19.1ms\tremaining: 31.8ms\n",
      "3:\ttest: 0.8330030\tbest: 0.8330030 (3)\ttotal: 25.4ms\tremaining: 25.4ms\n",
      "4:\ttest: 0.8355973\tbest: 0.8355973 (4)\ttotal: 31.7ms\tremaining: 19ms\n",
      "5:\ttest: 0.8351534\tbest: 0.8355973 (4)\ttotal: 38.1ms\tremaining: 12.7ms\n",
      "6:\ttest: 0.8470923\tbest: 0.8470923 (6)\ttotal: 44.3ms\tremaining: 6.33ms\n",
      "7:\ttest: 0.8499205\tbest: 0.8499205 (7)\ttotal: 50.7ms\tremaining: 0us\n",
      "\n",
      "bestTest = 0.8499205219\n",
      "bestIteration = 7\n",
      "\n",
      "Metric AUC is not calculated on train by default. To calculate this metric on train, add hints=skip_train~false to metric parameters.\n",
      "34:\tloss: 0.8499205\tbest: 0.8557764 (31)\ttotal: 1.66s\tremaining: 712ms\n",
      "0:\ttest: 0.7659490\tbest: 0.7659490 (0)\ttotal: 6.64ms\tremaining: 46.5ms\n",
      "1:\ttest: 0.8179538\tbest: 0.8179538 (1)\ttotal: 13.7ms\tremaining: 41ms\n",
      "2:\ttest: 0.8262904\tbest: 0.8262904 (2)\ttotal: 22ms\tremaining: 36.6ms\n",
      "3:\ttest: 0.8286094\tbest: 0.8286094 (3)\ttotal: 30.7ms\tremaining: 30.7ms\n",
      "4:\ttest: 0.8368187\tbest: 0.8368187 (4)\ttotal: 36.2ms\tremaining: 21.7ms\n",
      "5:\ttest: 0.8393888\tbest: 0.8393888 (5)\ttotal: 41.7ms\tremaining: 13.9ms\n",
      "6:\ttest: 0.8471818\tbest: 0.8471818 (6)\ttotal: 54.5ms\tremaining: 7.79ms\n",
      "7:\ttest: 0.8523668\tbest: 0.8523668 (7)\ttotal: 61.7ms\tremaining: 0us\n",
      "\n",
      "bestTest = 0.8523667967\n",
      "bestIteration = 7\n",
      "\n",
      "Metric AUC is not calculated on train by default. To calculate this metric on train, add hints=skip_train~false to metric parameters.\n",
      "35:\tloss: 0.8523668\tbest: 0.8557764 (31)\ttotal: 1.73s\tremaining: 671ms\n",
      "0:\ttest: 0.7659490\tbest: 0.7659490 (0)\ttotal: 6.97ms\tremaining: 55.8ms\n",
      "1:\ttest: 0.7985109\tbest: 0.7985109 (1)\ttotal: 14.1ms\tremaining: 49.3ms\n",
      "2:\ttest: 0.8153080\tbest: 0.8153080 (2)\ttotal: 20.4ms\tremaining: 40.9ms\n",
      "3:\ttest: 0.8157346\tbest: 0.8157346 (3)\ttotal: 30.5ms\tremaining: 38.1ms\n",
      "4:\ttest: 0.8179641\tbest: 0.8179641 (4)\ttotal: 38.1ms\tremaining: 30.4ms\n",
      "5:\ttest: 0.8204758\tbest: 0.8204758 (5)\ttotal: 44.5ms\tremaining: 22.2ms\n",
      "6:\ttest: 0.8355697\tbest: 0.8355697 (6)\ttotal: 48.6ms\tremaining: 13.9ms\n",
      "7:\ttest: 0.8420037\tbest: 0.8420037 (7)\ttotal: 55.4ms\tremaining: 6.92ms\n",
      "8:\ttest: 0.8436070\tbest: 0.8436070 (8)\ttotal: 62.6ms\tremaining: 0us\n",
      "\n",
      "bestTest = 0.8436069996\n",
      "bestIteration = 8\n",
      "\n",
      "Metric AUC is not calculated on train by default. To calculate this metric on train, add hints=skip_train~false to metric parameters.\n",
      "36:\tloss: 0.8436070\tbest: 0.8557764 (31)\ttotal: 1.79s\tremaining: 630ms\n",
      "0:\ttest: 0.7659490\tbest: 0.7659490 (0)\ttotal: 6.95ms\tremaining: 55.6ms\n",
      "1:\ttest: 0.7996325\tbest: 0.7996325 (1)\ttotal: 13.8ms\tremaining: 48.2ms\n",
      "2:\ttest: 0.8166016\tbest: 0.8166016 (2)\ttotal: 25ms\tremaining: 49.9ms\n",
      "3:\ttest: 0.8164778\tbest: 0.8166016 (2)\ttotal: 31.4ms\tremaining: 39.2ms\n",
      "4:\ttest: 0.8365675\tbest: 0.8365675 (4)\ttotal: 36.1ms\tremaining: 28.9ms\n",
      "5:\ttest: 0.8450830\tbest: 0.8450830 (5)\ttotal: 42.6ms\tremaining: 21.3ms\n",
      "6:\ttest: 0.8493494\tbest: 0.8493494 (6)\ttotal: 49ms\tremaining: 14ms\n",
      "7:\ttest: 0.8540940\tbest: 0.8540940 (7)\ttotal: 55.4ms\tremaining: 6.92ms\n",
      "8:\ttest: 0.8568086\tbest: 0.8568086 (8)\ttotal: 62ms\tremaining: 0us\n",
      "\n",
      "bestTest = 0.8568086263\n",
      "bestIteration = 8\n",
      "\n",
      "Metric AUC is not calculated on train by default. To calculate this metric on train, add hints=skip_train~false to metric parameters.\n",
      "37:\tloss: 0.8568086\tbest: 0.8568086 (37)\ttotal: 1.86s\tremaining: 587ms\n",
      "0:\ttest: 0.7659490\tbest: 0.7659490 (0)\ttotal: 7.02ms\tremaining: 56.2ms\n",
      "1:\ttest: 0.8073774\tbest: 0.8073774 (1)\ttotal: 14ms\tremaining: 49.1ms\n",
      "2:\ttest: 0.8411504\tbest: 0.8411504 (2)\ttotal: 20.4ms\tremaining: 40.8ms\n",
      "3:\ttest: 0.8472816\tbest: 0.8472816 (3)\ttotal: 26.5ms\tremaining: 33.2ms\n",
      "4:\ttest: 0.8525251\tbest: 0.8525251 (4)\ttotal: 32.7ms\tremaining: 26.1ms\n",
      "5:\ttest: 0.8542901\tbest: 0.8542901 (5)\ttotal: 39.5ms\tremaining: 19.7ms\n",
      "6:\ttest: 0.8540905\tbest: 0.8542901 (5)\ttotal: 45.8ms\tremaining: 13.1ms\n",
      "7:\ttest: 0.8540905\tbest: 0.8542901 (5)\ttotal: 49.1ms\tremaining: 6.14ms\n",
      "8:\ttest: 0.8566916\tbest: 0.8566916 (8)\ttotal: 55.8ms\tremaining: 0us\n",
      "\n",
      "bestTest = 0.8566916455\n",
      "bestIteration = 8\n",
      "\n",
      "Metric AUC is not calculated on train by default. To calculate this metric on train, add hints=skip_train~false to metric parameters.\n",
      "38:\tloss: 0.8566916\tbest: 0.8568086 (37)\ttotal: 1.92s\tremaining: 542ms\n",
      "0:\ttest: 0.7659490\tbest: 0.7659490 (0)\ttotal: 6.82ms\tremaining: 54.5ms\n",
      "1:\ttest: 0.8002415\tbest: 0.8002415 (1)\ttotal: 13.6ms\tremaining: 47.5ms\n",
      "2:\ttest: 0.8358691\tbest: 0.8358691 (2)\ttotal: 20.4ms\tremaining: 40.9ms\n",
      "3:\ttest: 0.8454718\tbest: 0.8454718 (3)\ttotal: 26.8ms\tremaining: 33.5ms\n",
      "4:\ttest: 0.8528760\tbest: 0.8528760 (4)\ttotal: 31.1ms\tremaining: 24.9ms\n",
      "5:\ttest: 0.8531272\tbest: 0.8531272 (5)\ttotal: 37.3ms\tremaining: 18.6ms\n",
      "6:\ttest: 0.8540974\tbest: 0.8540974 (6)\ttotal: 43.6ms\tremaining: 12.5ms\n",
      "7:\ttest: 0.8555528\tbest: 0.8555528 (7)\ttotal: 50.1ms\tremaining: 6.26ms\n",
      "8:\ttest: 0.8561515\tbest: 0.8561515 (8)\ttotal: 56.2ms\tremaining: 0us\n",
      "\n",
      "bestTest = 0.8561514695\n",
      "bestIteration = 8\n",
      "\n",
      "Metric AUC is not calculated on train by default. To calculate this metric on train, add hints=skip_train~false to metric parameters.\n",
      "39:\tloss: 0.8561515\tbest: 0.8568086 (37)\ttotal: 1.98s\tremaining: 496ms\n",
      "0:\ttest: 0.7659490\tbest: 0.7659490 (0)\ttotal: 13.5ms\tremaining: 108ms\n",
      "1:\ttest: 0.8352463\tbest: 0.8352463 (1)\ttotal: 24.2ms\tremaining: 84.6ms\n",
      "2:\ttest: 0.8442470\tbest: 0.8442470 (2)\ttotal: 29.9ms\tremaining: 59.8ms\n",
      "3:\ttest: 0.8491842\tbest: 0.8491842 (3)\ttotal: 35.3ms\tremaining: 44.1ms\n",
      "4:\ttest: 0.8526868\tbest: 0.8526868 (4)\ttotal: 41.8ms\tremaining: 33.5ms\n",
      "5:\ttest: 0.8537912\tbest: 0.8537912 (5)\ttotal: 45.5ms\tremaining: 22.8ms\n",
      "6:\ttest: 0.8553601\tbest: 0.8553601 (6)\ttotal: 51.8ms\tremaining: 14.8ms\n",
      "7:\ttest: 0.8557764\tbest: 0.8557764 (7)\ttotal: 58ms\tremaining: 7.25ms\n",
      "8:\ttest: 0.8574211\tbest: 0.8574211 (8)\ttotal: 64.1ms\tremaining: 0us\n",
      "\n",
      "bestTest = 0.8574210552\n",
      "bestIteration = 8\n",
      "\n",
      "Metric AUC is not calculated on train by default. To calculate this metric on train, add hints=skip_train~false to metric parameters.\n",
      "40:\tloss: 0.8574211\tbest: 0.8574211 (40)\ttotal: 2.05s\tremaining: 450ms\n",
      "0:\ttest: 0.7659490\tbest: 0.7659490 (0)\ttotal: 6.91ms\tremaining: 55.3ms\n",
      "1:\ttest: 0.8205721\tbest: 0.8205721 (1)\ttotal: 13.9ms\tremaining: 48.7ms\n",
      "2:\ttest: 0.8301301\tbest: 0.8301301 (2)\ttotal: 19.8ms\tremaining: 39.6ms\n",
      "3:\ttest: 0.8432767\tbest: 0.8432767 (3)\ttotal: 26.1ms\tremaining: 32.7ms\n",
      "4:\ttest: 0.8471921\tbest: 0.8471921 (4)\ttotal: 32.3ms\tremaining: 25.9ms\n",
      "5:\ttest: 0.8499997\tbest: 0.8499997 (5)\ttotal: 38.6ms\tremaining: 19.3ms\n",
      "6:\ttest: 0.8488333\tbest: 0.8499997 (5)\ttotal: 42.9ms\tremaining: 12.3ms\n",
      "7:\ttest: 0.8479731\tbest: 0.8499997 (5)\ttotal: 49.3ms\tremaining: 6.16ms\n",
      "8:\ttest: 0.8479731\tbest: 0.8499997 (5)\ttotal: 55.1ms\tremaining: 0us\n",
      "\n",
      "bestTest = 0.8499996559\n",
      "bestIteration = 5\n",
      "\n",
      "Metric AUC is not calculated on train by default. To calculate this metric on train, add hints=skip_train~false to metric parameters.\n",
      "41:\tloss: 0.8499997\tbest: 0.8574211 (40)\ttotal: 2.11s\tremaining: 401ms\n",
      "0:\ttest: 0.7659490\tbest: 0.7659490 (0)\ttotal: 10.8ms\tremaining: 86.2ms\n",
      "1:\ttest: 0.8195881\tbest: 0.8195881 (1)\ttotal: 21ms\tremaining: 73.4ms\n",
      "2:\ttest: 0.8277630\tbest: 0.8277630 (2)\ttotal: 26.9ms\tremaining: 53.8ms\n",
      "3:\ttest: 0.8312586\tbest: 0.8312586 (3)\ttotal: 31.1ms\tremaining: 38.9ms\n",
      "4:\ttest: 0.8405517\tbest: 0.8405517 (4)\ttotal: 37.3ms\tremaining: 29.8ms\n",
      "5:\ttest: 0.8500169\tbest: 0.8500169 (5)\ttotal: 41.7ms\tremaining: 20.9ms\n",
      "6:\ttest: 0.8502921\tbest: 0.8502921 (6)\ttotal: 48ms\tremaining: 13.7ms\n",
      "7:\ttest: 0.8505054\tbest: 0.8505054 (7)\ttotal: 54.2ms\tremaining: 6.77ms\n",
      "8:\ttest: 0.8501682\tbest: 0.8505054 (7)\ttotal: 60.9ms\tremaining: 0us\n",
      "\n",
      "bestTest = 0.8505054258\n",
      "bestIteration = 7\n",
      "\n",
      "Metric AUC is not calculated on train by default. To calculate this metric on train, add hints=skip_train~false to metric parameters.\n",
      "42:\tloss: 0.8505054\tbest: 0.8574211 (40)\ttotal: 2.17s\tremaining: 354ms\n",
      "0:\ttest: 0.7659490\tbest: 0.7659490 (0)\ttotal: 6.67ms\tremaining: 53.3ms\n",
      "1:\ttest: 0.8178712\tbest: 0.8178712 (1)\ttotal: 14.1ms\tremaining: 49.2ms\n",
      "2:\ttest: 0.8298962\tbest: 0.8298962 (2)\ttotal: 20ms\tremaining: 40ms\n",
      "3:\ttest: 0.8330030\tbest: 0.8330030 (3)\ttotal: 26.6ms\tremaining: 33.3ms\n",
      "4:\ttest: 0.8355973\tbest: 0.8355973 (4)\ttotal: 33.1ms\tremaining: 26.5ms\n",
      "5:\ttest: 0.8351534\tbest: 0.8355973 (4)\ttotal: 39.7ms\tremaining: 19.8ms\n",
      "6:\ttest: 0.8470923\tbest: 0.8470923 (6)\ttotal: 45.8ms\tremaining: 13.1ms\n",
      "7:\ttest: 0.8499205\tbest: 0.8499205 (7)\ttotal: 52ms\tremaining: 6.5ms\n",
      "8:\ttest: 0.8484479\tbest: 0.8499205 (7)\ttotal: 58.1ms\tremaining: 0us\n",
      "\n",
      "bestTest = 0.8499205219\n",
      "bestIteration = 7\n",
      "\n",
      "Metric AUC is not calculated on train by default. To calculate this metric on train, add hints=skip_train~false to metric parameters.\n",
      "43:\tloss: 0.8499205\tbest: 0.8574211 (40)\ttotal: 2.24s\tremaining: 305ms\n",
      "0:\ttest: 0.7659490\tbest: 0.7659490 (0)\ttotal: 7.12ms\tremaining: 57ms\n",
      "1:\ttest: 0.8179538\tbest: 0.8179538 (1)\ttotal: 14.2ms\tremaining: 49.8ms\n",
      "2:\ttest: 0.8262904\tbest: 0.8262904 (2)\ttotal: 20.4ms\tremaining: 40.7ms\n",
      "3:\ttest: 0.8286094\tbest: 0.8286094 (3)\ttotal: 26.8ms\tremaining: 33.5ms\n",
      "4:\ttest: 0.8368187\tbest: 0.8368187 (4)\ttotal: 32ms\tremaining: 25.6ms\n",
      "5:\ttest: 0.8393888\tbest: 0.8393888 (5)\ttotal: 38.4ms\tremaining: 19.2ms\n",
      "6:\ttest: 0.8471818\tbest: 0.8471818 (6)\ttotal: 45ms\tremaining: 12.9ms\n",
      "7:\ttest: 0.8523668\tbest: 0.8523668 (7)\ttotal: 51.2ms\tremaining: 6.39ms\n",
      "8:\ttest: 0.8526180\tbest: 0.8526180 (8)\ttotal: 57.3ms\tremaining: 0us\n",
      "\n",
      "bestTest = 0.8526179614\n",
      "bestIteration = 8\n",
      "\n",
      "Metric AUC is not calculated on train by default. To calculate this metric on train, add hints=skip_train~false to metric parameters.\n",
      "44:\tloss: 0.8526180\tbest: 0.8574211 (40)\ttotal: 2.3s\tremaining: 255ms\n",
      "Estimating final quality...\n",
      "Training on fold [0/3]\n",
      "0:\ttest: 0.7857384\tbest: 0.7857384 (0)\ttotal: 6.38ms\tremaining: 51.1ms\n",
      "1:\ttest: 0.8096865\tbest: 0.8096865 (1)\ttotal: 13.6ms\tremaining: 47.6ms\n",
      "2:\ttest: 0.8217976\tbest: 0.8217976 (2)\ttotal: 21.6ms\tremaining: 43.2ms\n",
      "3:\ttest: 0.8274648\tbest: 0.8274648 (3)\ttotal: 28.1ms\tremaining: 35.1ms\n",
      "4:\ttest: 0.8266519\tbest: 0.8274648 (3)\ttotal: 34ms\tremaining: 27.2ms\n",
      "5:\ttest: 0.8275505\tbest: 0.8275505 (5)\ttotal: 39.8ms\tremaining: 19.9ms\n",
      "6:\ttest: 0.8291154\tbest: 0.8291154 (6)\ttotal: 45.7ms\tremaining: 13.1ms\n",
      "7:\ttest: 0.8315984\tbest: 0.8315984 (7)\ttotal: 51.5ms\tremaining: 6.44ms\n",
      "8:\ttest: 0.8321763\tbest: 0.8321763 (8)\ttotal: 57.2ms\tremaining: 0us\n",
      "\n",
      "bestTest = 0.8321762506\n",
      "bestIteration = 8\n",
      "\n",
      "Training on fold [1/3]\n",
      "0:\ttest: 0.7645689\tbest: 0.7645689 (0)\ttotal: 16.6ms\tremaining: 132ms\n",
      "1:\ttest: 0.8044924\tbest: 0.8044924 (1)\ttotal: 22.3ms\tremaining: 78.1ms\n",
      "2:\ttest: 0.8222834\tbest: 0.8222834 (2)\ttotal: 27.2ms\tremaining: 54.3ms\n",
      "3:\ttest: 0.8283149\tbest: 0.8283149 (3)\ttotal: 31.3ms\tremaining: 39.1ms\n",
      "4:\ttest: 0.8284751\tbest: 0.8284751 (4)\ttotal: 37.6ms\tremaining: 30.1ms\n",
      "5:\ttest: 0.8286886\tbest: 0.8286886 (5)\ttotal: 43.4ms\tremaining: 21.7ms\n",
      "6:\ttest: 0.8297837\tbest: 0.8297837 (6)\ttotal: 49.1ms\tremaining: 14ms\n",
      "7:\ttest: 0.8306262\tbest: 0.8306262 (7)\ttotal: 55.3ms\tremaining: 6.91ms\n",
      "8:\ttest: 0.8313593\tbest: 0.8313593 (8)\ttotal: 59.3ms\tremaining: 0us\n",
      "\n",
      "bestTest = 0.8313592979\n",
      "bestIteration = 8\n",
      "\n",
      "Training on fold [2/3]\n",
      "0:\ttest: 0.7902514\tbest: 0.7902514 (0)\ttotal: 6.24ms\tremaining: 50ms\n",
      "1:\ttest: 0.8190069\tbest: 0.8190069 (1)\ttotal: 12ms\tremaining: 41.9ms\n",
      "2:\ttest: 0.8298772\tbest: 0.8298772 (2)\ttotal: 18.3ms\tremaining: 36.6ms\n",
      "3:\ttest: 0.8446928\tbest: 0.8446928 (3)\ttotal: 24.3ms\tremaining: 30.4ms\n",
      "4:\ttest: 0.8478066\tbest: 0.8478066 (4)\ttotal: 30.5ms\tremaining: 24.4ms\n",
      "5:\ttest: 0.8508983\tbest: 0.8508983 (5)\ttotal: 36.6ms\tremaining: 18.3ms\n",
      "6:\ttest: 0.8535272\tbest: 0.8535272 (6)\ttotal: 42.7ms\tremaining: 12.2ms\n",
      "7:\ttest: 0.8544800\tbest: 0.8544800 (7)\ttotal: 46.1ms\tremaining: 5.76ms\n",
      "8:\ttest: 0.8547954\tbest: 0.8547954 (8)\ttotal: 52.1ms\tremaining: 0us\n",
      "\n",
      "bestTest = 0.8547954454\n",
      "bestIteration = 8\n",
      "\n"
     ]
    },
    {
     "data": {
      "text/plain": [
       "{'cv_results': defaultdict(list,\n",
       "             {'iterations': [0, 1, 2, 3, 4, 5, 6, 7, 8],\n",
       "              'test-AUC-mean': [0.7801862434049481,\n",
       "               0.8110619130172223,\n",
       "               0.8246527198940319,\n",
       "               0.8334908524805383,\n",
       "               0.8343111940913536,\n",
       "               0.8357124787720983,\n",
       "               0.8374754432236918,\n",
       "               0.8389015263512026,\n",
       "               0.8394436646317752],\n",
       "              'test-AUC-std': [0.013711935530136806,\n",
       "               0.007354352588315732,\n",
       "               0.004531021789991076,\n",
       "               0.009710514901148543,\n",
       "               0.011722905252256508,\n",
       "               0.01316361150089141,\n",
       "               0.013905282846997939,\n",
       "               0.013500128556405186,\n",
       "               0.013301305687523773],\n",
       "              'test-Logloss-mean': [0.49997765390927085,\n",
       "               0.4552086046521064,\n",
       "               0.4380623693161893,\n",
       "               0.42915706254640806,\n",
       "               0.42921833556849087,\n",
       "               0.42785218620259763,\n",
       "               0.42605949544790156,\n",
       "               0.42510639116304355,\n",
       "               0.4247996414629869],\n",
       "              'test-Logloss-std': [0.003059211077068124,\n",
       "               0.002206026489368234,\n",
       "               0.002170118822112301,\n",
       "               0.009414280803623158,\n",
       "               0.01251563710910234,\n",
       "               0.014118323909262513,\n",
       "               0.015731512361165243,\n",
       "               0.015619986885639496,\n",
       "               0.016067996256794777],\n",
       "              'train-Logloss-mean': [0.4925372954984441,\n",
       "               0.44631925267733036,\n",
       "               0.4229524598262852,\n",
       "               0.4107497454271978,\n",
       "               0.39991464009764793,\n",
       "               0.3944061276233155,\n",
       "               0.38797040331094185,\n",
       "               0.38412688157284586,\n",
       "               0.38267346792779194],\n",
       "              'train-Logloss-std': [0.009339345343776909,\n",
       "               0.011140449626443213,\n",
       "               0.012124680195300217,\n",
       "               0.008054187947691418,\n",
       "               0.00690362502167084,\n",
       "               0.006941687987628277,\n",
       "               0.008351812501189288,\n",
       "               0.009793127746512992,\n",
       "               0.00995468952726147]}),\n",
       " 'params': {'iterations': 9, 'learning_rate': 0.5555555555555556}}"
      ]
     },
     "execution_count": 20,
     "metadata": {},
     "output_type": "execute_result"
    }
   ],
   "source": [
    "import catboost\n",
    "\n",
    "\n",
    "\n",
    "X_train_origin, X_test_origin, y_train, y_test = train_test_split(X_origin, y, \n",
    "                                                       train_size=0.8, \n",
    "                                                       random_state=42)\n",
    "\n",
    "boosting_model = catboost.CatBoostClassifier(eval_metric='AUC', \n",
    "                                             cat_features=cat_cols)\n",
    "\n",
    "# Поиск гиперпараметров будет осуществляться с помощью сетки, где перебираться будут\n",
    "#    - learning rate\n",
    "#    - число деревьев \n",
    "boosting_model.grid_search({'learning_rate': np.linspace(0, 1, 10), 'num_trees': np.arange(5, 10)}, X_train_origin, y_train)\n",
    "\n"
   ]
  },
  {
   "cell_type": "code",
   "execution_count": 21,
   "metadata": {
    "executionInfo": {
     "elapsed": 275,
     "status": "ok",
     "timestamp": 1634502984982,
     "user": {
      "displayName": "Александр Коломейцев",
      "photoUrl": "https://lh3.googleusercontent.com/a/default-user=s64",
      "userId": "12266641682940781501"
     },
     "user_tz": -180
    },
    "id": "nhbMF-PkPOWR"
   },
   "outputs": [],
   "source": [
    "boosting_model.best_iteration_"
   ]
  },
  {
   "cell_type": "markdown",
   "metadata": {
    "id": "NjcAupFN-FB5"
   },
   "source": [
    "Таким образом лучшее качество получилось при гиперпараметрах learning_rate=0.8 и количеству деревьев равному 5. Качество составляет 0.85479"
   ]
  },
  {
   "cell_type": "markdown",
   "metadata": {
    "id": "dDMXbvNZEEZV"
   },
   "source": [
    "# Предсказания"
   ]
  },
  {
   "cell_type": "code",
   "execution_count": null,
   "metadata": {
    "id": "G_P4wFNaEEZW"
   },
   "outputs": [],
   "source": [
    "best_model = boosting_model # выобр лучшей модели"
   ]
  },
  {
   "cell_type": "code",
   "execution_count": null,
   "metadata": {
    "colab": {
     "base_uri": "https://localhost:8080/"
    },
    "executionInfo": {
     "elapsed": 414,
     "status": "ok",
     "timestamp": 1634393164426,
     "user": {
      "displayName": "Александр Коломейцев",
      "photoUrl": "https://lh3.googleusercontent.com/a/default-user=s64",
      "userId": "12266641682940781501"
     },
     "user_tz": -180
    },
    "id": "FfSufx0CEEZZ",
    "outputId": "91545188-42ac-49d3-e1e4-09f1ad832dfa"
   },
   "outputs": [
    {
     "name": "stdout",
     "output_type": "stream",
     "text": [
      "[0 1 1 ... 1 1 0]\n",
      "[0.04528799 0.62065953 0.58597863 ... 0.7422159  0.50342966 0.02740114]\n",
      "1.0\n"
     ]
    }
   ],
   "source": [
    "from sklearn.metrics import roc_auc_score\n",
    "\n",
    "X_test = pd.read_csv('./test.csv')\n",
    "\n",
    "\n",
    "submission = pd.read_csv('./submission.csv')\n",
    "\n",
    "# print(best_model.predict(X_test))\n",
    "# print(best_model.predict_proba(X_test)[:, 1])\n",
    "# print(roc_auc_score(best_model.predict(X_test), best_model.predict_proba(X_test)[:, 1]))\n",
    "\n",
    "submission['Churn'] = best_model.predict_proba(X_test)[:, 1] #/ best_model.predict(X_test)\n",
    "submission.to_csv('./my_submission.csv', index=False)"
   ]
  },
  {
   "cell_type": "markdown",
   "metadata": {
    "id": "mkxjbGkVEEZc"
   },
   "source": [
    "# Kaggle (5 баллов)\n",
    "\n",
    "Как выставить баллы:\n",
    "\n",
    "1) 1 >= roc auc > 0.84 это 5 баллов\n",
    "\n",
    "2) 0.84 >= roc auc > 0.7 это 3 балла\n",
    "\n",
    "3) 0.7 >= roc auc > 0.6 это 1 балл\n",
    "\n",
    "4) 0.6 >= roc auc это 0 баллов\n",
    "\n",
    "\n",
    "Для выполнения задания необходимо выполнить следующие шаги.\n",
    "* Зарегистрироваться на платформе [kaggle.com](kaggle.com). Процесс выставления оценок будет проходить при подведении итогового рейтинга. Пожалуйста, укажите во вкладке Team -> Team name свои имя и фамилию в формате Имя_Фамилия (важно, чтобы имя и фамилия совпадали с данными на Stepik).\n",
    "* Обучить модель, получить файл с ответами в формате .csv и сдать его в конкурс. Пробуйте и экспериментируйте. Обратите внимание, что вы можете выполнять до 20 попыток сдачи на kaggle в день.\n",
    "* После окончания соревнования отправить в итоговый ноутбук с решением на степик. \n",
    "* После дедлайна проверьте посылки других участников по критериям. Для этого надо зайти на степик, скачать их ноутбук и проверить скор в соревновании."
   ]
  }
 ],
 "metadata": {
  "colab": {
   "collapsed_sections": [],
   "name": "Copy of baseline.ipynb",
   "provenance": [
    {
     "file_id": "1PO5ffKlghuzdzQwXMm1PpLP1J2bVX9n1",
     "timestamp": 1634376571904
    }
   ]
  },
  "kernelspec": {
   "display_name": "Python 3 (ipykernel)",
   "language": "python",
   "name": "python3"
  },
  "language_info": {
   "codemirror_mode": {
    "name": "ipython",
    "version": 3
   },
   "file_extension": ".py",
   "mimetype": "text/x-python",
   "name": "python",
   "nbconvert_exporter": "python",
   "pygments_lexer": "ipython3",
   "version": "3.9.7"
  }
 },
 "nbformat": 4,
 "nbformat_minor": 1
}
